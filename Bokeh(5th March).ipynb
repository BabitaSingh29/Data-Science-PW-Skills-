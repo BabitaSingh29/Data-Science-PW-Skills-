{
 "cells": [
  {
   "cell_type": "markdown",
   "id": "1756358d-fbaa-4027-ad4d-eafd79f84980",
   "metadata": {},
   "source": [
    "## Q1. How can you create a Bokeh plot using Python code?"
   ]
  },
  {
   "cell_type": "markdown",
   "id": "663f03eb-7519-4749-99dd-7a1492c5c56d",
   "metadata": {},
   "source": [
    "To create a Bokeh plot using Python code, follow these general steps:\n",
    "1>Install the Bokeh library using pip.\n",
    "\n",
    "2>Import the necessary modules from the Bokeh library in your Python code. You can import the figure module to create a new figure for your plot, and the output_file and show modules to save and display your plot, respectively. \n",
    "\n",
    "3>Create a new plot object using the figure() function and specify the plot dimensions, title, axis labels, etc.\n",
    "\n",
    "4>Add glyphs to the plot, such as circles, lines, rectangles, etc. using the various glyph methods provided by Bokeh, like p.circle(x, y, size=10, color='red').\n",
    "\n",
    "5>Specify any interactive tools or widgets for the plot using the add_tools() method.\n",
    "\n",
    "6>Save the plot as an HTML file using the output_file() function, or show the plot using the show() function."
   ]
  },
  {
   "cell_type": "code",
   "execution_count": 1,
   "id": "1f0cf84c-178f-4312-9cb2-5d1d302b8f8f",
   "metadata": {},
   "outputs": [],
   "source": [
    "from bokeh.plotting import figure, output_file, show\n",
    "import numpy as np\n",
    "\n",
    "# Generate some random data\n",
    "x = np.random.normal(size=100)\n",
    "y = np.random.normal(size=100)\n",
    "\n",
    "# Create a new plot object\n",
    "p = figure(title='My Scatter Plot', x_axis_label='X', y_axis_label='Y')\n",
    "\n",
    "# Add a circle glyph to the plot\n",
    "p.circle(x, y, size=10, color='red')\n",
    "\n",
    "# Save the plot as an HTML file\n",
    "output_file('scatter_plot.html')\n",
    "\n",
    "# Show the plot in a new tab\n",
    "show(p)"
   ]
  },
  {
   "cell_type": "markdown",
   "id": "c67f98ad-e715-42b1-ba5b-fb6f8ee3b425",
   "metadata": {},
   "source": [
    "## Q2. What are glyphs in Bokeh, and how can you add them to a Bokeh plot? Explain with an example."
   ]
  },
  {
   "cell_type": "markdown",
   "id": "7d468d40-a6a3-45a7-ba20-5aa71411b131",
   "metadata": {},
   "source": [
    "In Bokeh, glyphs are visual markers that represent data points in a plot, such as circles, lines, rectangles, or triangles. They are added to a Bokeh plot using glyph methods."
   ]
  },
  {
   "cell_type": "code",
   "execution_count": null,
   "id": "b2c39ae8-165c-4bf9-93a7-18ad61389f6f",
   "metadata": {},
   "outputs": [],
   "source": [
    "from bokeh.plotting import figure, show\n",
    "from bokeh.sampledata.iris import flowers\n",
    "\n",
    "# Create a Figure object\n",
    "p = figure(title=\"Iris Dataset\")\n",
    "\n",
    "# Plot the data points using circles\n",
    "p.circle(x=flowers[\"petal_length\"], y=flowers[\"petal_width\"], size=8, alpha=0.8)\n",
    "\n",
    "# Add axis labels\n",
    "p.xaxis.axis_label = \"Petal Length\"\n",
    "p.yaxis.axis_label = \"Petal Width\"\n",
    "\n",
    "# Show the plot\n",
    "show(p"
   ]
  },
  {
   "cell_type": "markdown",
   "id": "52acbddf-d73a-4352-a976-77737b5a2e5b",
   "metadata": {},
   "source": [
    "## Q3. How can you customize the appearance of a Bokeh plot, including the axes, title, and legend?"
   ]
  },
  {
   "cell_type": "markdown",
   "id": "7835fc43-0f67-4c34-aade-f6308f37efb0",
   "metadata": {},
   "source": [
    "1>Changing plot dimensions: We can change the width and height of the plot using the plot_width and plot_height properties.\n",
    "\n",
    "2>Changing the title: We can add a title to the plot using the title property of the plot object.\n",
    "\n",
    "3>Changing the axis labels: We can change the axis labels by accessing the xaxis and yaxis properties of the plot and setting their labels using the axis_label property.\n",
    "\n",
    "4>Changing the legend: We can customize the legend by accessing the legend object of the plot and setting its properties, such as title, location, and orientation."
   ]
  },
  {
   "cell_type": "code",
   "execution_count": null,
   "id": "a7b38212-aa4a-46c8-bed3-6f76cf2bb2b6",
   "metadata": {},
   "outputs": [],
   "source": [
    "from bokeh.plotting import figure, show\n",
    "from bokeh.models import Legend\n",
    "\n",
    "# create some data\n",
    "x = [1, 2, 3, 4, 5]\n",
    "y = [5, 4, 3, 2, 1]\n",
    "\n",
    "# create a figure object with custom dimensions and title\n",
    "p = figure(title='My Plot', plot_width=400, plot_height=400)\n",
    "\n",
    "# add a scatter glyph\n",
    "p.scatter(x, y, size=10, color='red', legend_label='My Data')\n",
    "\n",
    "# customize the axis labels\n",
    "p.xaxis.axis_label = 'X-Axis Label'\n",
    "p.yaxis.axis_label = 'Y-Axis Label'\n",
    "\n",
    "# customize the legend\n",
    "legend = Legend(items=[('My Data', [p.circle(x, y, size=10, color='red')])], title='Legend', location='top_left')\n",
    "p.add_layout(legend, 'right')\n",
    "\n",
    "# show the plot\n",
    "show(p)"
   ]
  },
  {
   "cell_type": "markdown",
   "id": "21ca96d4-8c98-46b2-bf41-451e2f670963",
   "metadata": {},
   "source": [
    "## Q4. What is a Bokeh server, and how can you use it to create interactive plots that can be updated in real time?"
   ]
  },
  {
   "cell_type": "markdown",
   "id": "f80c6376-7c7a-47a5-bb2c-f8b5c91f8a42",
   "metadata": {},
   "source": [
    "A Bokeh server is a Python process that allows you to create and deploy interactive Bokeh plots that can be updated in real-time based on user input or streaming data. Bokeh server enables the creation of interactive data applications that can be accessed from a web browser.\n",
    "\n",
    "To use Bokeh server, the user needs to write a Python script defining the desired interactive plots and the logic for updating them. The script is then executed using the Bokeh server command, which creates a web application that can be accessed through a web browser.\n",
    "\n",
    "The Bokeh server enables the creation of applications that can accept user inputs, such as sliders or drop-down menus, and update the displayed plots based on those inputs. This allows for the creation of dynamic, interactive visualizations that can be used for data exploration and analysis."
   ]
  },
  {
   "cell_type": "code",
   "execution_count": null,
   "id": "77b06818-0f9b-4cf4-9934-8c8b5578a787",
   "metadata": {},
   "outputs": [],
   "source": [
    "from bokeh.io import curdoc\n",
    "from bokeh.layouts import column\n",
    "from bokeh.models import ColumnDataSource, Slider\n",
    "from bokeh.plotting import figure\n",
    "\n",
    "# Create the data source\n",
    "source = ColumnDataSource(data=dict(x=[1, 2, 3], y=[1, 2, 3]))\n",
    "\n",
    "# Create the plot\n",
    "plot = figure()\n",
    "plot.circle(x='x', y='y', source=source)\n",
    "\n",
    "# Define the callback function\n",
    "def update_data(attrname, old, new):\n",
    "    # Get the current value of the slider\n",
    "    a = slider.value\n",
    "    \n",
    "    # Update the data source\n",
    "    source.data = dict(x=[1, 2, 3], y=[a, 2*a, 3*a])\n",
    "    \n",
    "# Create the slider\n",
    "slider = Slider(start=0, end=10, value=1, step=1, title=\"Value of a\")\n",
    "slider.on_change('value', update_data)\n",
    "\n",
    "# Arrange the plot and slider in a layout\n",
    "layout = column(slider, plot)\n",
    "\n",
    "# Add the layout to the document\n",
    "curdoc().add_root(layout)"
   ]
  },
  {
   "cell_type": "markdown",
   "id": "fc83f203-917b-477e-9c7a-9ab24dd43215",
   "metadata": {},
   "source": [
    "## Q5. How can you embed a Bokeh plot into a web page or dashboard using Flask or Django?"
   ]
  },
  {
   "cell_type": "markdown",
   "id": "8ba73a7a-4e3c-4a8b-b39c-4cb64bc4721c",
   "metadata": {},
   "source": [
    "1>Create a Bokeh plot using the Bokeh library in Python.\n",
    "\n",
    "2>Save the plot as an HTML file using the save method of the plot object.\n",
    "\n",
    "3>Create a Flask or Django application that serves the HTML file using a route.\n",
    "\n",
    "4>Use the iframe HTML tag to embed the plot in a web page or dashboard"
   ]
  },
  {
   "cell_type": "code",
   "execution_count": null,
   "id": "67ae8db1-467f-4fd3-9f7f-6d797c25f6ae",
   "metadata": {},
   "outputs": [],
   "source": [
    "from flask import Flask, render_template\n",
    "\n",
    "from bokeh.plotting import figure\n",
    "from bokeh.embed import file_html\n",
    "from bokeh.resources import CDN\n",
    "\n",
    "app = Flask(__name__)\n",
    "\n",
    "# create a Bokeh plot\n",
    "p = figure(title=\"My Plot\", x_axis_label=\"X Axis\", y_axis_label=\"Y Axis\")\n",
    "p.line([1, 2, 3], [4, 5, 6])\n",
    "\n",
    "# save the plot as an HTML file\n",
    "html = file_html(p, CDN, \"my_plot\")\n",
    "\n",
    "# create a Flask route that serves the HTML file\n",
    "@app.route(\"/\")\n",
    "def home():\n",
    "    return render_template(\"home.html\", plot=html)\n",
    "\n",
    "# create a template that embeds the plot using an iframe\n",
    "# in this example, the template is named \"home.html\"\n",
    "# and is located in the \"templates\" directory\n",
    "\"\"\"\n",
    "<!DOCTYPE html>\n",
    "<html>\n",
    "  <head>\n",
    "    <title>My Plot</title>\n",
    "  </head>\n",
    "  <body>\n",
    "    <h1>My Plot</h1>\n",
    "    <iframe srcdoc=\"{{ plot }}\" frameborder=\"0\"></iframe>\n",
    "  </body>\n",
    "</html>\n",
    "\"\"\"\n",
    "\n",
    "if __name__ == \"__main__\":\n",
    "    app.run(debug=True)"
   ]
  }
 ],
 "metadata": {
  "kernelspec": {
   "display_name": "Python 3 (ipykernel)",
   "language": "python",
   "name": "python3"
  },
  "language_info": {
   "codemirror_mode": {
    "name": "ipython",
    "version": 3
   },
   "file_extension": ".py",
   "mimetype": "text/x-python",
   "name": "python",
   "nbconvert_exporter": "python",
   "pygments_lexer": "ipython3",
   "version": "3.10.8"
  }
 },
 "nbformat": 4,
 "nbformat_minor": 5
}
