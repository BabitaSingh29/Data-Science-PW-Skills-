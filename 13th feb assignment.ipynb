{
 "cells": [
  {
   "cell_type": "markdown",
   "id": "7fe06588-c472-4784-9f27-aae213685325",
   "metadata": {},
   "source": [
    "## Q1. Explain why we have to use the Exception class while creating a Custom Exception.\n",
    "Note: Here Exception class refers to the base class for all the exceptions."
   ]
  },
  {
   "cell_type": "markdown",
   "id": "a939989d-372a-4134-b1db-23253388a40a",
   "metadata": {},
   "source": [
    "By using the Exception class as the base class for custom exceptions, the custom exception can be easily integrated into existing exception handling code, and it can be caught and handled in a similar way to other standard exceptions. Additionally, using the Exception class helps to ensure that the custom exception adheres to the standard conventions and practices for exception handling, making the code more maintainable and easier to understand."
   ]
  },
  {
   "cell_type": "markdown",
   "id": "47a8d98e-a188-463c-9b5d-f3f8d47c3ed6",
   "metadata": {},
   "source": [
    "## Q2. Write a python program to print Python Exception Hierarchy."
   ]
  },
  {
   "cell_type": "code",
   "execution_count": null,
   "id": "8a0dbc35-ae5e-4983-8363-6dcdda685d07",
   "metadata": {},
   "outputs": [],
   "source": [
    "def print_exception_hierarchy(cls, indent=0):\n",
    "    print(' ' * indent + cls.__name__)\n",
    "    for subclass in cls.__subclasses__():\n",
    "        print_exception_hierarchy(subclass, indent + 2)\n",
    "\n",
    "print_exception_hierarchy(Exception)"
   ]
  },
  {
   "cell_type": "markdown",
   "id": "9537482c-64ee-46d3-847c-de0ac4f5d2f1",
   "metadata": {},
   "source": [
    "## Q3. What errors are defined in the ArithmeticError class? Explain any two with an example."
   ]
  },
  {
   "cell_type": "markdown",
   "id": "4e3d75e0-0003-4ac8-8d99-6039b96b94ce",
   "metadata": {},
   "source": [
    "The ArithmeticError Exception is the base class for all errors associated with arithmetic operation.  ZeroDivisionError --> OverflowError --> FloatingPointError\n",
    "Other arithmetic errors defined in the ArithmeticError class include  ValueError, AssertionError, and RecursionError."
   ]
  },
  {
   "cell_type": "code",
   "execution_count": 2,
   "id": "e74a4e4a-1fcc-4042-8c59-723fb6c61424",
   "metadata": {},
   "outputs": [
    {
     "name": "stdout",
     "output_type": "stream",
     "text": [
      "<class 'ZeroDivisionError'>\n"
     ]
    }
   ],
   "source": [
    "# example 1- Zero Division Error\n",
    "try:\n",
    "    1/0\n",
    "except ArithmeticError as e:\n",
    "    print(f\"{e.__class__}\")"
   ]
  },
  {
   "cell_type": "code",
   "execution_count": 3,
   "id": "965cf64a-8cf3-45c6-8de7-cdd0ee956447",
   "metadata": {},
   "outputs": [
    {
     "name": "stdout",
     "output_type": "stream",
     "text": [
      "(34, 'Numerical result out of range'), <class 'OverflowError'>\n"
     ]
    }
   ],
   "source": [
    "# Example 2\n",
    "j = 5.0\n",
    "\n",
    "try:\n",
    "    for i in range(1, 1000):\n",
    "        j = j**i\n",
    "except ArithmeticError as e:\n",
    "    print(f\"{e}, {e.__class__}\")"
   ]
  },
  {
   "cell_type": "markdown",
   "id": "0ba9d12c-0d1e-4171-b3ad-61b8df732cf1",
   "metadata": {},
   "source": [
    "## Q4. Why LookupError class is used? Explain with an example KeyError and IndexError."
   ]
  },
  {
   "cell_type": "markdown",
   "id": "4562e191-b821-4df7-ba51-52b9cb047f9f",
   "metadata": {},
   "source": [
    "The LookupError class is a built-in class in Python that represents errors that occur when trying to access an element of a sequence using an invalid index or key. It is a base class for more specific lookup errors, including IndexError and KeyError."
   ]
  },
  {
   "cell_type": "code",
   "execution_count": 4,
   "id": "940e41f0-7300-4f32-a017-e4bd3853de9e",
   "metadata": {},
   "outputs": [
    {
     "ename": "KeyError",
     "evalue": "'c'",
     "output_type": "error",
     "traceback": [
      "\u001b[0;31m---------------------------------------------------------------------------\u001b[0m",
      "\u001b[0;31mKeyError\u001b[0m                                  Traceback (most recent call last)",
      "Cell \u001b[0;32mIn[4], line 2\u001b[0m\n\u001b[1;32m      1\u001b[0m d \u001b[38;5;241m=\u001b[39m {\u001b[38;5;124m'\u001b[39m\u001b[38;5;124ma\u001b[39m\u001b[38;5;124m'\u001b[39m: \u001b[38;5;241m1\u001b[39m, \u001b[38;5;124m'\u001b[39m\u001b[38;5;124mb\u001b[39m\u001b[38;5;124m'\u001b[39m: \u001b[38;5;241m2\u001b[39m}\n\u001b[0;32m----> 2\u001b[0m \u001b[43md\u001b[49m\u001b[43m[\u001b[49m\u001b[38;5;124;43m'\u001b[39;49m\u001b[38;5;124;43mc\u001b[39;49m\u001b[38;5;124;43m'\u001b[39;49m\u001b[43m]\u001b[49m\n",
      "\u001b[0;31mKeyError\u001b[0m: 'c'"
     ]
    }
   ],
   "source": [
    "# Keyerror example\n",
    "d = {'a': 1, 'b': 2}\n",
    "d['c']"
   ]
  },
  {
   "cell_type": "code",
   "execution_count": 5,
   "id": "ac994473-20b9-4ff4-b2cb-33276a4c7de8",
   "metadata": {},
   "outputs": [
    {
     "ename": "IndexError",
     "evalue": "list index out of range",
     "output_type": "error",
     "traceback": [
      "\u001b[0;31m---------------------------------------------------------------------------\u001b[0m",
      "\u001b[0;31mIndexError\u001b[0m                                Traceback (most recent call last)",
      "Cell \u001b[0;32mIn[5], line 3\u001b[0m\n\u001b[1;32m      1\u001b[0m \u001b[38;5;66;03m# Indexerror example\u001b[39;00m\n\u001b[1;32m      2\u001b[0m l \u001b[38;5;241m=\u001b[39m [\u001b[38;5;241m1\u001b[39m, \u001b[38;5;241m2\u001b[39m, \u001b[38;5;241m3\u001b[39m]\n\u001b[0;32m----> 3\u001b[0m \u001b[43ml\u001b[49m\u001b[43m[\u001b[49m\u001b[38;5;241;43m3\u001b[39;49m\u001b[43m]\u001b[49m\n",
      "\u001b[0;31mIndexError\u001b[0m: list index out of range"
     ]
    }
   ],
   "source": [
    "# Indexerror example\n",
    "l = [1, 2, 3]\n",
    "l[3]"
   ]
  },
  {
   "cell_type": "code",
   "execution_count": 6,
   "id": "3098414d-e53a-495a-9923-d2db6fc5c1d7",
   "metadata": {},
   "outputs": [
    {
     "name": "stdout",
     "output_type": "stream",
     "text": [
      "Lookup error occurred: 'c'\n"
     ]
    }
   ],
   "source": [
    "try:\n",
    "    d = {'a': 1, 'b': 2}\n",
    "    value = d['c']\n",
    "except LookupError as e:\n",
    "    print(f\"Lookup error occurred: {e}\")"
   ]
  },
  {
   "cell_type": "markdown",
   "id": "130831ca-a2f6-4e27-b12b-fc0aca06295b",
   "metadata": {},
   "source": [
    "## Q5. Explain ImportError. What is ModuleNotFoundError?"
   ]
  },
  {
   "cell_type": "raw",
   "id": "789beb16-3178-4ceb-8b0f-75af674ff16a",
   "metadata": {},
   "source": [
    "ImportError is a built-in exception in Python that is raised when a module or package cannot be imported. This exception is raised when there is an error in the import statement of a module, and can be caused by a number of reasons, including:\n",
    "\n",
    "The module or package does not exist\n",
    "The module or package is not installed\n",
    "The module or package is not located in the correct directory or location"
   ]
  },
  {
   "cell_type": "code",
   "execution_count": 9,
   "id": "368db3ec-eb15-4f7d-bde4-a91dbcf04f39",
   "metadata": {},
   "outputs": [
    {
     "name": "stdout",
     "output_type": "stream",
     "text": [
      "It will throw an error as No module named 'Babita'\n"
     ]
    }
   ],
   "source": [
    "#example\n",
    "try:\n",
    "    import Babita\n",
    "except ImportError as me:\n",
    "    print(f\"It will throw an error as {me}\")"
   ]
  },
  {
   "cell_type": "code",
   "execution_count": 11,
   "id": "5581fd95-8e4f-4e38-b255-5581d6e1c0f9",
   "metadata": {},
   "outputs": [
    {
     "name": "stdout",
     "output_type": "stream",
     "text": [
      "You got an error as No module named 'Name'\n"
     ]
    }
   ],
   "source": [
    "#example\n",
    "try:\n",
    "    import Name\n",
    "except ModuleNotFoundError as me:\n",
    "    print(f\"You got an error as {me}\")"
   ]
  },
  {
   "cell_type": "markdown",
   "id": "664c9249-c9b6-43b4-b2cb-1c4ec5fb04fb",
   "metadata": {},
   "source": [
    "## Q6. List down some best practices for exception handling in python."
   ]
  },
  {
   "cell_type": "markdown",
   "id": "32b52ac4-36e2-4740-864f-75a74b7789c6",
   "metadata": {},
   "source": [
    "1. Be specific: Catch specific exceptions instead of catching all exceptions using the except: statement. This helps in debugging and identifying the source of the error.\n",
    "2. Use finally block: Use the finally block to clean up any resources that were used during the try block. For example, if you opened a file, you should close it in the finally block.\n",
    "3. Use descriptive error messages: Use descriptive error messages in your exceptions, so that you or other developers can easily understand what went wrong.\n",
    "4. Use raise to propagate exceptions: If you catch an exception, but can't handle it properly, use the raise statement to propagate the exception to the caller.\n",
    "5. Don't use exceptions for flow control: Exceptions should not be used for flow control, such as to break out of loops. This can make the code harder to read and debug."
   ]
  }
 ],
 "metadata": {
  "kernelspec": {
   "display_name": "Python 3 (ipykernel)",
   "language": "python",
   "name": "python3"
  },
  "language_info": {
   "codemirror_mode": {
    "name": "ipython",
    "version": 3
   },
   "file_extension": ".py",
   "mimetype": "text/x-python",
   "name": "python",
   "nbconvert_exporter": "python",
   "pygments_lexer": "ipython3",
   "version": "3.10.8"
  }
 },
 "nbformat": 4,
 "nbformat_minor": 5
}
