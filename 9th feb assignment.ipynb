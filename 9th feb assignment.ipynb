{
 "cells": [
  {
   "cell_type": "markdown",
   "id": "fa104fc2-f69e-4fa8-bceb-4d8deec520b8",
   "metadata": {},
   "source": [
    "## Q1, Create a vehicle class with an init method having instance variables as name_of_vehicle, max_speed and average_of_vehicle."
   ]
  },
  {
   "cell_type": "code",
   "execution_count": 14,
   "id": "47b2e3a7-8b7b-4874-b5e2-5da3d92f7118",
   "metadata": {},
   "outputs": [],
   "source": [
    "class Vehicle:\n",
    "    def __init__(self, name_of_vehicle, max_speed, average_of_vehicle):\n",
    "        self.name_of_vehicle = name_of_vehicle\n",
    "        self.max_speed = max_speed\n",
    "        self.average_of_vehicle = average_of_vehicle\n",
    "car = Vehicle('Toyota Corolla', 200, 30)        "
   ]
  },
  {
   "cell_type": "markdown",
   "id": "ec3dc0d6-9b94-4261-9677-2be8fc048490",
   "metadata": {},
   "source": [
    "In this example, car is an instance of the Vehicle class, with a name_of_vehicle attribute set to 'Toyota Corolla', a max_speed attribute set to 200, and an average_of_vehicle attribute set to 30."
   ]
  },
  {
   "cell_type": "markdown",
   "id": "e44cf020-427f-4bd4-a29f-5ba360650b2a",
   "metadata": {},
   "source": [
    "## Q2. Create a child class car from the vehicle class created in Que 1, which will inherit the vehicle class.\n",
    "Create a method named seating_capacity which takes capacity as an argument and returns the name of\n",
    "the vehicle and its seating capacity."
   ]
  },
  {
   "cell_type": "code",
   "execution_count": 3,
   "id": "3186aa6f-ae6f-465c-a9b7-c0a82465105f",
   "metadata": {},
   "outputs": [],
   "source": [
    "class Vehicle:\n",
    "    def __init__(self, name_of_vehicle, max_speed, average_of_vehicle):\n",
    "        self.name_of_vehicle = name_of_vehicle\n",
    "        self.max_speed = max_speed\n",
    "        self.average_of_vehicle = average_of_vehicle\n",
    "car = Vehicle('Toyota Corolla', 200, 30)      "
   ]
  },
  {
   "cell_type": "code",
   "execution_count": 4,
   "id": "0bed6180-199e-42ad-a704-9fc02e8eada8",
   "metadata": {},
   "outputs": [],
   "source": [
    "class Car(Vehicle):\n",
    "    def seating_capacity(self, capacity):\n",
    "        return f\"{self.name_of_vehicle} has a seating capacity of {capacity} people.\""
   ]
  },
  {
   "cell_type": "code",
   "execution_count": 5,
   "id": "882ff5f3-b1fb-4756-bf69-ad367fab03ee",
   "metadata": {},
   "outputs": [
    {
     "name": "stdout",
     "output_type": "stream",
     "text": [
      "Toyota Corolla has a seating capacity of 5 people.\n"
     ]
    }
   ],
   "source": [
    "my_car = Car(\"Toyota Corolla\", 120, 60)\n",
    "print(my_car.seating_capacity(5))"
   ]
  },
  {
   "cell_type": "markdown",
   "id": "ad4e0212-ce51-45bd-a4bd-f06f5d518972",
   "metadata": {},
   "source": [
    "## Q3. What is multiple inheritance? Write a python code to demonstrate multiple inheritance."
   ]
  },
  {
   "cell_type": "markdown",
   "id": "e0d74687-a1ea-488c-b6f6-a941da5d7546",
   "metadata": {},
   "source": [
    "Multiple inheritance is a feature in object-oriented programming languages that allows a subclass to inherit properties and methods from multiple parent classes. In other words, a subclass can inherit from two or more classes at the same time."
   ]
  },
  {
   "cell_type": "code",
   "execution_count": 6,
   "id": "fbaa8da3-1ce6-4b83-9cd5-b2234d5158dd",
   "metadata": {},
   "outputs": [
    {
     "name": "stdout",
     "output_type": "stream",
     "text": [
      "Sparrow is eating.\n",
      "Sparrow is flying.\n",
      "Sparrow is chirping.\n"
     ]
    }
   ],
   "source": [
    "class Animal:\n",
    "    def __init__(self, name):\n",
    "        self.name = name\n",
    "\n",
    "    def eat(self):\n",
    "        print(f\"{self.name} is eating.\")\n",
    "\n",
    "class Flyer:\n",
    "    def fly(self):\n",
    "        print(f\"{self.name} is flying.\")\n",
    "\n",
    "class Bird(Animal, Flyer):\n",
    "    def __init__(self, name):\n",
    "        super().__init__(name)\n",
    "\n",
    "    def chirp(self):\n",
    "        print(f\"{self.name} is chirping.\")\n",
    "\n",
    "bird = Bird(\"Sparrow\")\n",
    "bird.eat()   \n",
    "bird.fly()   \n",
    "bird.chirp() "
   ]
  },
  {
   "cell_type": "markdown",
   "id": "76249448-27eb-4390-b330-7e0a7bdb3596",
   "metadata": {},
   "source": [
    "In the above example, we define three classes - Animal, Flyer, and Bird. The Animal class has a constructor that initializes the name of the animal and an eat() method to simulate the animal eating. The Flyer class has a fly() method to simulate the animal flying. The Bird class inherits from both Animal and Flyer using multiple inheritance. It also has a chirp() method to simulate the bird chirping.\n",
    "\n",
    "We create an instance of the Bird class with the name \"Sparrow\". We can see that the Bird instance can call the eat() method from the Animal class, the fly() method from the Flyer class, and the chirp() method from the Bird class. This demonstrates how multiple inheritance works in Python."
   ]
  },
  {
   "cell_type": "markdown",
   "id": "6d43502a-06da-494c-a083-ce19af499860",
   "metadata": {},
   "source": [
    "## Q4. What are getter and setter in python? Create a class and create a getter and a setter method in this class."
   ]
  },
  {
   "cell_type": "markdown",
   "id": "c1b8fc97-b3e2-408f-857e-aae7871f80a3",
   "metadata": {},
   "source": [
    " Getters and Setters are used to control access to an object's properties. They are used to encapsulate class attributes and provide a way to access or modify them.\n",
    "\n",
    "Getter methods are used to get the value of a private attribute.\n",
    "Setter methods are used to set the value of a private attribute."
   ]
  },
  {
   "cell_type": "code",
   "execution_count": 11,
   "id": "83247dd2-5ad4-4825-9bc0-7bd4ef3c4254",
   "metadata": {},
   "outputs": [
    {
     "name": "stdout",
     "output_type": "stream",
     "text": [
      "27\n",
      "27\n"
     ]
    }
   ],
   "source": [
    "class Getter_Setter:   \n",
    "    def __init__(self, age = 0):   \n",
    "         self._age = age   \n",
    "      # using the getter method   \n",
    "    def get_age(self):   \n",
    "        return self._age   \n",
    "      # using the setter method   \n",
    "    def set_age(self, a):   \n",
    "        self._age = a   \n",
    "    \n",
    "Arun = Getter_Setter()   \n",
    "    \n",
    "#using the setter function  \n",
    "Arun.set_age(27)   \n",
    "    \n",
    "# using the getter function  \n",
    "print(Arun.get_age())   \n",
    "    \n",
    "print(Arun._age) "
   ]
  },
  {
   "cell_type": "markdown",
   "id": "6b5addfe-4a60-4dc6-9e48-a5f6227a3acb",
   "metadata": {},
   "source": [
    "## Q5.What is method overriding in python? Write a python code to demonstrate method overriding."
   ]
  },
  {
   "cell_type": "markdown",
   "id": "b89deac8-2f2a-4ca1-9163-ee422b6e974a",
   "metadata": {},
   "source": [
    "Method overriding is a feature in object-oriented programming where a subclass provides its own implementation of a method that is already defined in its parent class. In other words, the subclass overrides the implementation of the method in the parent class."
   ]
  },
  {
   "cell_type": "code",
   "execution_count": 12,
   "id": "aea0bc80-3bee-4f70-a1c8-fa0a0973b078",
   "metadata": {},
   "outputs": [
    {
     "name": "stdout",
     "output_type": "stream",
     "text": [
      "The animal speaks.\n",
      "The cat meows.\n",
      "The dog barks.\n"
     ]
    }
   ],
   "source": [
    "class Animal:\n",
    "    def speak(self):\n",
    "        print(\"The animal speaks.\")\n",
    "\n",
    "class Cat(Animal):\n",
    "    def speak(self):\n",
    "        print(\"The cat meows.\")\n",
    "\n",
    "class Dog(Animal):\n",
    "    def speak(self):\n",
    "        print(\"The dog barks.\")\n",
    "\n",
    "animal = Animal()\n",
    "animal.speak()\n",
    "\n",
    "cat = Cat()\n",
    "cat.speak()    \n",
    "\n",
    "dog = Dog()\n",
    "dog.speak()  "
   ]
  },
  {
   "cell_type": "code",
   "execution_count": null,
   "id": "b501a7b6-c73a-4d31-a2b2-5b94cefd1f26",
   "metadata": {},
   "outputs": [],
   "source": []
  }
 ],
 "metadata": {
  "kernelspec": {
   "display_name": "Python 3 (ipykernel)",
   "language": "python",
   "name": "python3"
  },
  "language_info": {
   "codemirror_mode": {
    "name": "ipython",
    "version": 3
   },
   "file_extension": ".py",
   "mimetype": "text/x-python",
   "name": "python",
   "nbconvert_exporter": "python",
   "pygments_lexer": "ipython3",
   "version": "3.10.8"
  }
 },
 "nbformat": 4,
 "nbformat_minor": 5
}
