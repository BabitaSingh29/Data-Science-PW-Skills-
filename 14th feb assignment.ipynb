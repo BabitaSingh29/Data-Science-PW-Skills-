{
 "cells": [
  {
   "cell_type": "markdown",
   "id": "6899da53-4774-424e-bd69-80f1ae8a9dd2",
   "metadata": {},
   "source": [
    "## Q1. What is multithreading in python? Why is it used? Name the module used to handle threads in python."
   ]
  },
  {
   "cell_type": "markdown",
   "id": "56d22ed5-1f91-4272-a8af-eb9d8bf5d8af",
   "metadata": {},
   "source": [
    "Multithreading in Python refers to the process of running multiple threads of execution simultaneously within a single process. A thread is a sequence of instructions that can be executed independently of the main program flow, allowing for parallelism and concurrency in the program.\n",
    "\n",
    "Multithreading is used in Python to improve the performance of programs that perform I/O operations or have CPU-bound tasks. By using multiple threads, these programs can take advantage of the available resources and complete tasks faster.\n",
    "\n",
    "In Python, the threading module is used to handle threads. This module provides a simple way to create and manage threads within a program."
   ]
  },
  {
   "cell_type": "markdown",
   "id": "bed29676-d4e5-48db-aa6b-7ba18f1d7829",
   "metadata": {},
   "source": [
    "## Why threading module used? Write the use of the following functions:\n",
    "1. activeCount()\n",
    "2. currentThread()\n",
    "3. enumerate()"
   ]
  },
  {
   "cell_type": "markdown",
   "id": "5d32a8e1-5cc7-431c-8e47-f6c5bbaf8042",
   "metadata": {},
   "source": [
    "The threading module in Python is used to create and manage threads in a program. It provides a way to create multiple threads of execution within a single process, allowing for parallelism and concurrency in the program.\n",
    "1. ActiveCount(): This function returns the number of active threads in the current process. It can be used to monitor the number of threads in a program and to ensure that the program does not create too many threads, which could cause performance problems.\n",
    "\n",
    "2. CurrentThread(): This function returns a reference to the current thread object. It can be used to access information about the current thread, such as its name, identifier, and status.\n",
    "\n",
    "3. enumerate(): This function returns a list of all thread objects in the current process. It can be used to iterate over all threads in a program and to perform operations on each thread, such as joining or terminating it. \n"
   ]
  },
  {
   "cell_type": "markdown",
   "id": "5f085344-91b2-4960-9e79-28453b241f81",
   "metadata": {},
   "source": [
    "## 3. Explain the following functions\n",
    "1. run()\n",
    "2. start()\n",
    "3. join()\n",
    "4. isAlive()"
   ]
  },
  {
   "cell_type": "markdown",
   "id": "ac21da0a-81be-4290-8f03-9e71a9201bce",
   "metadata": {},
   "source": [
    "1. run(): This method is used to define the behavior of a thread when it starts running. It is called automatically when a thread is started using the start() method.\n",
    "\n",
    "2. start(): This method is used to start a thread. It creates a new thread of execution and calls the run() method of the thread.\n",
    "\n",
    "3. join(): This method is used to wait for a thread to complete its execution. When you call the join() method on a thread, the calling thread will block until the specified thread has finished running.\n",
    "\n",
    "4. isAlive(): This method is used to check whether a thread is currently running. It returns a boolean value that indicates whether the thread is still executing.\n"
   ]
  },
  {
   "cell_type": "markdown",
   "id": "ce7ad6e1-7cec-42ec-b83a-4a7f58cc77cb",
   "metadata": {},
   "source": [
    "## 4. Write a python program to create two threads. Thread one must print the list of squares and thread two must print the list of cubes."
   ]
  },
  {
   "cell_type": "code",
   "execution_count": 2,
   "id": "5680700e-e554-4ad2-a7ae-51ff753b6864",
   "metadata": {},
   "outputs": [
    {
     "name": "stdout",
     "output_type": "stream",
     "text": [
      "1 squared is 1\n",
      "2 squared is 4\n",
      "3 squared is 9\n",
      "4 squared is 16\n",
      "5 squared is 25\n",
      "6 squared is 36\n",
      "7 squared is 49\n",
      "8 squared is 64\n",
      "9 squared is 81\n",
      "10 squared is 100\n",
      "1 cubed is 1\n",
      "2 cubed is 8\n",
      "3 cubed is 27\n",
      "4 cubed is 64\n",
      "5 cubed is 125\n",
      "6 cubed is 216\n",
      "7 cubed is 343\n",
      "8 cubed is 512\n",
      "9 cubed is 729\n",
      "10 cubed is 1000\n"
     ]
    }
   ],
   "source": [
    "import threading #import thread\n",
    "\n",
    "def print_squares():\n",
    "    for i in range(1, 11):\n",
    "        print(f\"{i} squared is {i**2}\")\n",
    "\n",
    "def print_cubes():\n",
    "    for i in range(1, 11):\n",
    "        print(f\"{i} cubed is {i**3}\")\n",
    "\n",
    "# create two threads\n",
    "t1 = threading.Thread(target=print_squares)\n",
    "t2 = threading.Thread(target=print_cubes)\n",
    "\n",
    "# start the threads\n",
    "t1.start()\n",
    "t2.start()\n",
    "\n",
    "# wait for the threads to finish\n",
    "t1.join()\n",
    "t2.join()\n"
   ]
  },
  {
   "cell_type": "markdown",
   "id": "0c12bfaf-e36f-4b11-b3b4-2032171bac23",
   "metadata": {},
   "source": [
    "## Q5. State advantages and disadvantages of multithreading"
   ]
  },
  {
   "cell_type": "markdown",
   "id": "f66c50fa-e1f3-4af2-8f7c-854d0db35fa6",
   "metadata": {},
   "source": [
    "Advantages:\n",
    "1. Improved performance.\n",
    "2. Increased responsiveness.\n",
    "3. Simplified programming.\n",
    "4. Resource sharing.\n",
    "\n",
    "Disadvantages:\n",
    "1. Complex programming.\n",
    "2. Increase overhead.\n",
    "3. Race condition.\n",
    "4. Deadlocks.\n",
    "   "
   ]
  },
  {
   "cell_type": "markdown",
   "id": "743c6796-5eef-49cb-9477-1177c87a348e",
   "metadata": {},
   "source": [
    "## Q6. Explain deadlocks and race conditions."
   ]
  },
  {
   "cell_type": "markdown",
   "id": "f73e03d8-043c-42bb-895e-d061028f0e1e",
   "metadata": {},
   "source": [
    "1. Deadlocks:\n",
    "Deadlock is a situation that occurs when two or more threads are blocked, waiting for each other to release a resource, and none of them can proceed. Deadlocks occur when there is a circular dependency on shared resources.\n",
    "\n",
    "2. Race Conditions:\n",
    "A race condition is a situation that occurs when two or more threads access a shared resource in an unpredictable order, and the result depends on the order of execution. In other words, the outcome of the program depends on the timing and order of execution of the threads. Race conditions can lead to unexpected behavior and program crashes. \n"
   ]
  }
 ],
 "metadata": {
  "kernelspec": {
   "display_name": "Python 3 (ipykernel)",
   "language": "python",
   "name": "python3"
  },
  "language_info": {
   "codemirror_mode": {
    "name": "ipython",
    "version": 3
   },
   "file_extension": ".py",
   "mimetype": "text/x-python",
   "name": "python",
   "nbconvert_exporter": "python",
   "pygments_lexer": "ipython3",
   "version": "3.10.8"
  }
 },
 "nbformat": 4,
 "nbformat_minor": 5
}
