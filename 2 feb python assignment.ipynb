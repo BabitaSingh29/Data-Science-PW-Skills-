{
 "cells": [
  {
   "cell_type": "markdown",
   "id": "158333d5-3fb2-4aa1-9d4f-3eea207d5913",
   "metadata": {},
   "source": [
    "***1. Explain with example when to use for loop and while loop.\n",
    "In Python, the for loop and the while loop are used to repeat a block of code. The choice between using a for loop and a while loop depends on the specific use case.\n",
    "\n",
    "For loop is used when you want to repeat a block of code a specific number of times. For example, if you want to print the numbers from 1 to 10, you can use a for loop:"
   ]
  },
  {
   "cell_type": "code",
   "execution_count": 1,
   "id": "7dff87cb-5f18-489c-bb53-1acb1ee1e4a6",
   "metadata": {},
   "outputs": [
    {
     "name": "stdout",
     "output_type": "stream",
     "text": [
      "1\n",
      "2\n",
      "3\n",
      "4\n",
      "5\n",
      "6\n",
      "7\n",
      "8\n",
      "9\n",
      "10\n"
     ]
    }
   ],
   "source": [
    "for i in range(1, 11):\n",
    "    print(i)"
   ]
  },
  {
   "cell_type": "markdown",
   "id": "9577941d-a501-4540-9cb0-99ab818c7cc5",
   "metadata": {},
   "source": [
    "While loop is used when you want to repeat a block of code until a specific condition is met. For example, if you want to print the numbers from 1 to 10 until the number is 5, you can use a while loop:"
   ]
  },
  {
   "cell_type": "code",
   "execution_count": 2,
   "id": "7352e2e0-a8fe-4bb4-9409-64211379077b",
   "metadata": {},
   "outputs": [
    {
     "name": "stdout",
     "output_type": "stream",
     "text": [
      "1\n",
      "2\n",
      "3\n",
      "4\n",
      "5\n"
     ]
    }
   ],
   "source": [
    "i = 1\n",
    "while i <= 10:\n",
    "    print(i)\n",
    "    if i == 5:\n",
    "        break\n",
    "    i += 1"
   ]
  },
  {
   "cell_type": "code",
   "execution_count": 3,
   "id": "57c110e7-d998-41c2-b435-5da77a35b3a4",
   "metadata": {},
   "outputs": [
    {
     "name": "stdout",
     "output_type": "stream",
     "text": [
      "The sum of the first 10 natural numbers is: 55\n",
      "The product of the first 10 natural numbers is: 3628800\n"
     ]
    }
   ],
   "source": [
    "# 2.Write a python program to print the sum and the product of 10 natural numbers using for and while loop.\n",
    "# For loop\n",
    "sum = 0\n",
    "product = 1\n",
    "\n",
    "for i in range(1, 11):\n",
    "    sum += i\n",
    "    product *= i\n",
    "\n",
    "print(\"The sum of the first 10 natural numbers is:\", sum)\n",
    "print(\"The product of the first 10 natural numbers is:\", product)"
   ]
  },
  {
   "cell_type": "code",
   "execution_count": 4,
   "id": "0ab16c0c-bb20-40a5-8cba-009dbd8e4b63",
   "metadata": {},
   "outputs": [
    {
     "name": "stdout",
     "output_type": "stream",
     "text": [
      "The sum of the first 10 natural numbers is: 55\n",
      "The product of the first 10 natural numbers is: 3628800\n"
     ]
    }
   ],
   "source": [
    "# While loop\n",
    "sum = 0\n",
    "product = 1\n",
    "i = 1\n",
    "\n",
    "while i <= 10:\n",
    "    sum += i\n",
    "    product *= i\n",
    "    i += 1\n",
    "\n",
    "print(\"The sum of the first 10 natural numbers is:\", sum)\n",
    "print(\"The product of the first 10 natural numbers is:\", product)"
   ]
  },
  {
   "cell_type": "markdown",
   "id": "f45a554f-e01b-4eda-9b49-81794a458e54",
   "metadata": {},
   "source": [
    "***Q3. Create a python program to compute the electricity bill for a household.\n",
    "\n",
    "The per-unit charges in rupees are as follows: For the first 100 units, the user will be charged Rs. 4.5 per\n",
    "unit, for the next 100 units, the user will be charged Rs. 6 per unit, and for the next 100 units, the user will\n",
    "be charged Rs. 10 per unit, After 300 units and above the user will be charged Rs. 20 per unit.\n",
    "\n",
    "You are required to take the units of electricity consumed in a month from the user as input.\n",
    "\n",
    "Your program must pass this test case: when the unit of electricity consumed by the user in a month is\n",
    "310, the total electricity bill should be 2250."
   ]
  },
  {
   "cell_type": "code",
   "execution_count": 5,
   "id": "fcd25c4e-9415-4297-839b-57250c3fd1eb",
   "metadata": {},
   "outputs": [
    {
     "name": "stdin",
     "output_type": "stream",
     "text": [
      "Enter the number of units consumed:  310\n"
     ]
    },
    {
     "name": "stdout",
     "output_type": "stream",
     "text": [
      "The total electricity bill is: 2250.0\n"
     ]
    }
   ],
   "source": [
    "units = int(input(\"Enter the number of units consumed: \"))\n",
    "\n",
    "if units <= 100:\n",
    "    bill = units * 4.5\n",
    "elif units <= 200:\n",
    "    bill = (100 * 4.5) + ((units - 100) * 6)\n",
    "elif units <= 300:\n",
    "    bill = (100 * 4.5) + (100 * 6) + ((units - 200) * 10)\n",
    "else:\n",
    "    bill = (100 * 4.5) + (100 * 6) + (100 * 10) + ((units - 300) * 20)\n",
    "\n",
    "print(\"The total electricity bill is:\", bill)\n"
   ]
  },
  {
   "cell_type": "markdown",
   "id": "59b3cb7b-9483-401e-9b60-ff45740de3f8",
   "metadata": {},
   "source": [
    "***Q4. Create a list of numbers from 1 to 100. Use for loop and while loop to calculate the cube of each\n",
    "number and if the cube of that number is divisible by 4 or 5 then append that number in a list and print\n",
    "that list."
   ]
  },
  {
   "cell_type": "code",
   "execution_count": 11,
   "id": "57ad8be6-8b71-4ba1-ae45-749a352d6f28",
   "metadata": {},
   "outputs": [
    {
     "name": "stdout",
     "output_type": "stream",
     "text": [
      "[8, 64, 125, 216, 512, 1000, 1728, 2744, 3375, 4096, 5832, 8000, 10648, 13824, 15625, 17576, 21952, 27000, 32768, 39304, 42875, 46656, 54872, 64000, 74088, 85184, 91125, 97336, 110592, 125000, 140608, 157464, 166375, 175616, 195112, 216000, 238328, 262144, 274625, 287496, 314432, 343000, 373248, 405224, 421875, 438976, 474552, 512000, 551368, 592704, 614125, 636056, 681472, 729000, 778688, 830584, 857375, 884736, 941192, 1000000]\n"
     ]
    }
   ],
   "source": [
    "#For Loop\n",
    "numbers = [i for i in range(1, 101)]\n",
    "result = []\n",
    "\n",
    "for num in numbers:\n",
    "    cube = num ** 3\n",
    "    if cube % 4 == 0 or cube % 5 == 0:\n",
    "        result.append(cube)\n",
    "\n",
    "print(result)"
   ]
  },
  {
   "cell_type": "code",
   "execution_count": 8,
   "id": "49a84333-0294-4844-8a62-189f32db9c30",
   "metadata": {},
   "outputs": [
    {
     "name": "stdout",
     "output_type": "stream",
     "text": [
      "[8, 64, 125, 216, 512, 1000, 1728, 2744, 3375, 4096, 5832, 8000, 10648, 13824, 15625, 17576, 21952, 27000, 32768, 39304, 42875, 46656, 54872, 64000, 74088, 85184, 91125, 97336, 110592, 125000, 140608, 157464, 166375, 175616, 195112, 216000, 238328, 262144, 274625, 287496, 314432, 343000, 373248, 405224, 421875, 438976, 474552, 512000, 551368, 592704, 614125, 636056, 681472, 729000, 778688, 830584, 857375, 884736, 941192, 1000000]\n"
     ]
    }
   ],
   "source": [
    "# While Loop\n",
    "numbers = [i for i in range(1, 101)]\n",
    "result = []\n",
    "i = 1\n",
    "\n",
    "while i < len(numbers):\n",
    "    cube = numbers[i] ** 3\n",
    "    if cube % 4 == 0 or cube % 5 == 0:\n",
    "        result.append(cube)\n",
    "    i += 1\n",
    "\n",
    "print(result)"
   ]
  },
  {
   "cell_type": "markdown",
   "id": "21ec8945-322c-4bce-add8-5b73fde96278",
   "metadata": {},
   "source": [
    "***Q5. Write a program to filter count vowels in the below-given string.\n",
    "string = \"I want to become a data scientist\""
   ]
  },
  {
   "cell_type": "code",
   "execution_count": 9,
   "id": "b672b243-fe4c-4ebc-8a0c-011209af5fc5",
   "metadata": {},
   "outputs": [
    {
     "name": "stdout",
     "output_type": "stream",
     "text": [
      "The number of vowels in the string is: 12\n"
     ]
    }
   ],
   "source": [
    "string = \"I want to become a data scientist\"\n",
    "\n",
    "# vowels\n",
    "vowels = \"aeiouAEIOU\"\n",
    "\n",
    "# count the vowels\n",
    "count = 0\n",
    "for char in string:\n",
    "    if char in vowels:\n",
    "        count += 1\n",
    "\n",
    "# output the result\n",
    "print(\"The number of vowels in the string is:\", count)"
   ]
  }
 ],
 "metadata": {
  "kernelspec": {
   "display_name": "Python 3 (ipykernel)",
   "language": "python",
   "name": "python3"
  },
  "language_info": {
   "codemirror_mode": {
    "name": "ipython",
    "version": 3
   },
   "file_extension": ".py",
   "mimetype": "text/x-python",
   "name": "python",
   "nbconvert_exporter": "python",
   "pygments_lexer": "ipython3",
   "version": "3.10.8"
  }
 },
 "nbformat": 4,
 "nbformat_minor": 5
}
