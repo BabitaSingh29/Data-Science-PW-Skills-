{
 "cells": [
  {
   "cell_type": "code",
   "execution_count": 1,
   "id": "2cfc2e2a-93e9-4c84-ae31-26810c852721",
   "metadata": {},
   "outputs": [
    {
     "name": "stdout",
     "output_type": "stream",
     "text": [
      "Requirement already satisfied: pandas in /opt/conda/lib/python3.10/site-packages (1.5.2)\n",
      "Requirement already satisfied: python-dateutil>=2.8.1 in /opt/conda/lib/python3.10/site-packages (from pandas) (2.8.2)\n",
      "Requirement already satisfied: pytz>=2020.1 in /opt/conda/lib/python3.10/site-packages (from pandas) (2022.6)\n",
      "Requirement already satisfied: numpy>=1.21.0 in /opt/conda/lib/python3.10/site-packages (from pandas) (1.23.5)\n",
      "Requirement already satisfied: six>=1.5 in /opt/conda/lib/python3.10/site-packages (from python-dateutil>=2.8.1->pandas) (1.16.0)\n",
      "Note: you may need to restart the kernel to use updated packages.\n"
     ]
    }
   ],
   "source": [
    "pip install pandas"
   ]
  },
  {
   "cell_type": "markdown",
   "id": "fd4e8a9f-7189-459a-9bee-618bf28fab24",
   "metadata": {},
   "source": [
    "## Q1. Create a Pandas Series that contains the following data: 4, 8, 15, 16, 23, and 42. Then, print the series."
   ]
  },
  {
   "cell_type": "code",
   "execution_count": 2,
   "id": "5579086f-0409-4deb-b30c-2e6793045d48",
   "metadata": {},
   "outputs": [
    {
     "name": "stdout",
     "output_type": "stream",
     "text": [
      "0     4\n",
      "1     8\n",
      "2    15\n",
      "3    16\n",
      "4    23\n",
      "5    42\n",
      "dtype: int64\n"
     ]
    }
   ],
   "source": [
    "import pandas as pd\n",
    "\n",
    "# create a Pandas Series\n",
    "data = [4, 8, 15, 16, 23, 42]\n",
    "series = pd.Series(data)\n",
    "\n",
    "# print the series\n",
    "print(series)"
   ]
  },
  {
   "cell_type": "markdown",
   "id": "b8e63557-d915-4abd-a001-97d91c71c648",
   "metadata": {},
   "source": [
    "## Q2. Create a variable of list type containing 10 elements in it, and apply pandas.Series function on the variable print it."
   ]
  },
  {
   "cell_type": "code",
   "execution_count": 3,
   "id": "30dbcddf-4bd6-4f9f-a456-44af80da1343",
   "metadata": {},
   "outputs": [
    {
     "name": "stdout",
     "output_type": "stream",
     "text": [
      "0     1\n",
      "1     2\n",
      "2     3\n",
      "3     4\n",
      "4     5\n",
      "5     6\n",
      "6     7\n",
      "7     8\n",
      "8     9\n",
      "9    10\n",
      "dtype: int64\n"
     ]
    }
   ],
   "source": [
    "my_list = [1, 2, 3, 4, 5, 6, 7, 8, 9, 10]\n",
    "my_series = pd.Series(my_list)\n",
    "print(my_series)"
   ]
  },
  {
   "cell_type": "markdown",
   "id": "0b3b3a6d-96ee-46f1-ba51-9c6ca0933cff",
   "metadata": {},
   "source": [
    "## Q3. Create a Pandas DataFrame that contains the following data:\n",
    "Name     Age    Gender\n",
    "Alice    25     Female\n",
    "Bob      30     Male\n",
    "Claire   27     Female\n",
    "\n",
    "Then, print the DataFrame."
   ]
  },
  {
   "cell_type": "code",
   "execution_count": 4,
   "id": "7f113d08-4a4b-4ee9-947f-39a720ce1bc1",
   "metadata": {},
   "outputs": [
    {
     "name": "stdout",
     "output_type": "stream",
     "text": [
      "     Name  Age  Gender\n",
      "0   Alice   25  Female\n",
      "1     Bob   30    Male\n",
      "2  Claire   27  Female\n"
     ]
    }
   ],
   "source": [
    "import pandas as pd\n",
    "\n",
    "data = {'Name': ['Alice', 'Bob', 'Claire'],\n",
    "        'Age': [25, 30, 27],\n",
    "        'Gender': ['Female', 'Male', 'Female']}\n",
    "\n",
    "df = pd.DataFrame(data)\n",
    "\n",
    "print(df)"
   ]
  },
  {
   "cell_type": "markdown",
   "id": "438d7264-2322-48b1-b906-fa3b0e12604c",
   "metadata": {},
   "source": [
    "## Q4. What is ‘DataFrame’ in pandas and how is it different from pandas.series? Explain with an example."
   ]
  },
  {
   "cell_type": "markdown",
   "id": "b7626b5f-5e03-4571-9470-7ebf67553584",
   "metadata": {},
   "source": [
    "1>A DataFrame has multiple columns, while a Series has only one column.\n",
    "2>A DataFrame can hold data of different types in each column, while a Series can hold data of only one type.\n",
    "3>A DataFrame has both a row index and a column index, while a Series has only a row index."
   ]
  },
  {
   "cell_type": "code",
   "execution_count": 5,
   "id": "1c197399-99eb-4f2d-9a49-cb909341322b",
   "metadata": {},
   "outputs": [
    {
     "name": "stdout",
     "output_type": "stream",
     "text": [
      "Series:\n",
      "0     apple\n",
      "1    banana\n",
      "2    cherry\n",
      "3    durian\n",
      "dtype: object\n",
      "\n",
      "DataFrame:\n",
      "     name  age   fruit\n",
      "0   Alice   25   apple\n",
      "1     Bob   30  banana\n",
      "2  Claire   27  cherry\n",
      "3   David   35  durian\n"
     ]
    }
   ],
   "source": [
    "\n",
    "\n",
    "# Creating a Series object\n",
    "fruits = pd.Series(['apple', 'banana', 'cherry', 'durian'])\n",
    "\n",
    "# Creating a DataFrame object\n",
    "data = {'name': ['Alice', 'Bob', 'Claire', 'David'],\n",
    "        'age': [25, 30, 27, 35],\n",
    "        'fruit': ['apple', 'banana', 'cherry', 'durian']}\n",
    "df = pd.DataFrame(data)\n",
    "\n",
    "print(\"Series:\")\n",
    "print(fruits)\n",
    "print(\"\\nDataFrame:\")\n",
    "print(df)"
   ]
  },
  {
   "cell_type": "markdown",
   "id": "fc27f912-ac32-43c2-ae9e-e39f386710d8",
   "metadata": {},
   "source": [
    "## Q5. What are some common functions you can use to manipulate data in a Pandas DataFrame? Can you give an example of when you might use one of these functions?"
   ]
  },
  {
   "cell_type": "markdown",
   "id": "60aa4929-8ab2-4182-a99a-46465bc343c1",
   "metadata": {},
   "source": [
    "1>head() and tail(): These functions allow you to view the top or bottom rows of a DataFrame.\n",
    "\n",
    "2>describe(): This function provides a summary of the numerical data in the DataFrame, including count, mean, standard deviation, minimum, and maximum values\n",
    "\n",
    "3>drop(): This function allows you to remove rows or columns from a DataFrame.\n",
    "\n",
    "4>fillna(): This function allows you to fill missing values in a DataFrame with a specific value or a value computed from other values in the DataFrame. It is useful when you want to replace missing data with a meaningful value.\n",
    "\n",
    "4>groupby(): This function allows you to group data in a DataFrame by one or more columns and apply a function to each group.\n",
    "\n",
    "5>pivot_table(): This function allows you to create a summary table from a DataFrame by aggregating the data across multiple dimensions. "
   ]
  },
  {
   "cell_type": "code",
   "execution_count": 4,
   "id": "d6a03f96-6906-477a-aa09-3ad2c034b1f4",
   "metadata": {},
   "outputs": [
    {
     "name": "stdout",
     "output_type": "stream",
     "text": [
      "Region\n",
      "East     370\n",
      "North    300\n",
      "South    450\n",
      "West     460\n",
      "Name: Sales, dtype: int64\n"
     ]
    }
   ],
   "source": [
    "import pandas as pd\n",
    "\n",
    "# create a DataFrame with sales data\n",
    "data = {'Region': ['North', 'North', 'South', 'South', 'East', 'East', 'West', 'West'],\n",
    "        'Product': ['A', 'B', 'A', 'B', 'A', 'B', 'A', 'B'],\n",
    "        'Sales': [100, 200, 150, 300, 120, 250, 180, 280]}\n",
    "df = pd.DataFrame(data)\n",
    "# group data by region and calculate total sales\n",
    "region_sales = df.groupby('Region')['Sales'].sum()\n",
    "print(region_sales)"
   ]
  },
  {
   "cell_type": "markdown",
   "id": "1557ffae-8cd5-42ae-bd9e-c10eecfeba6f",
   "metadata": {},
   "source": [
    "In this example, we used the groupby() function to group the data by the 'Region' column, and then applied the sum() function to the 'Sales' column to calculate the total sales for each group. "
   ]
  },
  {
   "cell_type": "markdown",
   "id": "9fc5d28c-ed3c-4d89-8333-1ce07f5e7b60",
   "metadata": {},
   "source": [
    "## Q6. Which of the following is mutable in nature Series, DataFrame, Panel?"
   ]
  },
  {
   "cell_type": "markdown",
   "id": "c1b05f16-ede1-48c8-a24d-de9099dce3ba",
   "metadata": {},
   "source": [
    "In Pandas, both Series and DataFrame are mutable, which means that their values can be changed after they are created. However, Panel is deprecated in the latest version of Pandas and is no longer recommended for use.\n",
    "\n",
    "When you modify a Series or DataFrame, the original object is updated, and any references to the object will reflect the changes. This is different from immutable objects like strings, tuples, or frozen sets, where you cannot modify the object once it is created."
   ]
  },
  {
   "cell_type": "markdown",
   "id": "fff3c3de-17fa-446c-a4a4-e8c3dade0db4",
   "metadata": {},
   "source": [
    "## Q7. Create a DataFrame using multiple Series. Explain with an example."
   ]
  },
  {
   "cell_type": "code",
   "execution_count": 5,
   "id": "d7d85919-c685-4c91-bda1-98541b56e55d",
   "metadata": {},
   "outputs": [
    {
     "name": "stdout",
     "output_type": "stream",
     "text": [
      "      Name  Age Gender\n",
      "0    Alice   25      F\n",
      "1      Bob   30      M\n",
      "2  Charlie   35      M\n"
     ]
    }
   ],
   "source": [
    "# create three Series\n",
    "name = pd.Series(['Alice', 'Bob', 'Charlie'])\n",
    "age = pd.Series([25, 30, 35])\n",
    "gender = pd.Series(['F', 'M', 'M'])\n",
    "\n",
    "# create a DataFrame using the Series\n",
    "df = pd.DataFrame({'Name': name, 'Age': age, 'Gender': gender})\n",
    "\n",
    "# display the DataFrame\n",
    "print(df)"
   ]
  }
 ],
 "metadata": {
  "kernelspec": {
   "display_name": "Python 3 (ipykernel)",
   "language": "python",
   "name": "python3"
  },
  "language_info": {
   "codemirror_mode": {
    "name": "ipython",
    "version": 3
   },
   "file_extension": ".py",
   "mimetype": "text/x-python",
   "name": "python",
   "nbconvert_exporter": "python",
   "pygments_lexer": "ipython3",
   "version": "3.10.8"
  }
 },
 "nbformat": 4,
 "nbformat_minor": 5
}
