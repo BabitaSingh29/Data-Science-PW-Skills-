{
 "cells": [
  {
   "cell_type": "markdown",
   "id": "6deb6c0c-6151-4432-877a-3db218051346",
   "metadata": {},
   "source": [
    "## Q1. List any five functions of the pandas library with execution."
   ]
  },
  {
   "cell_type": "markdown",
   "id": "6b2c34ff-a425-4f9c-a497-e545fc1934f1",
   "metadata": {},
   "source": [
    "1.read_csv(): This function reads a CSV file and returns a DataFrame.\n",
    "                \n",
    "2.head(): This function displays the first n rows of a DataFrame (by default n=5).\n",
    "                \n",
    "3.info(): This function provides information about a DataFrame, such as the number of rows and columns, data types, and memory usage.\n",
    "            \n",
    "4.groupby(): This function groups the DataFrame by one or more columns and returns a GroupBy object.\n",
    "                \n",
    "5.describe(): This function generates descriptive statistics of a DataFrame, such as count, mean, and standard deviation.\n",
    "               "
   ]
  },
  {
   "cell_type": "markdown",
   "id": "750d71f3-d2dc-4cb7-8a67-909fd9a64e32",
   "metadata": {},
   "source": [
    "## Q2. Given a Pandas DataFrame df with columns 'A', 'B', and 'C', write a Python function to re-index the DataFrame with a new index that starts from 1 and increments by 2 for each row."
   ]
  },
  {
   "cell_type": "code",
   "execution_count": 1,
   "id": "898e16b4-4f11-4e38-b5f3-75c2a908b0f1",
   "metadata": {},
   "outputs": [
    {
     "name": "stdout",
     "output_type": "stream",
     "text": [
      "Requirement already satisfied: pandas in /opt/conda/lib/python3.10/site-packages (1.5.2)\n",
      "Requirement already satisfied: python-dateutil>=2.8.1 in /opt/conda/lib/python3.10/site-packages (from pandas) (2.8.2)\n",
      "Requirement already satisfied: pytz>=2020.1 in /opt/conda/lib/python3.10/site-packages (from pandas) (2022.6)\n",
      "Requirement already satisfied: numpy>=1.21.0 in /opt/conda/lib/python3.10/site-packages (from pandas) (1.23.5)\n",
      "Requirement already satisfied: six>=1.5 in /opt/conda/lib/python3.10/site-packages (from python-dateutil>=2.8.1->pandas) (1.16.0)\n",
      "Note: you may need to restart the kernel to use updated packages.\n"
     ]
    }
   ],
   "source": [
    "pip install pandas"
   ]
  },
  {
   "cell_type": "code",
   "execution_count": 5,
   "id": "2d090e1b-1ac8-4814-bb7c-59653892bfd9",
   "metadata": {},
   "outputs": [],
   "source": [
    "import pandas as pd\n",
    "        \n",
    "def reindex_dataframe(df):\n",
    "    new_index = pd.RangeIndex(start=1, stop=2*len(df)+1, step=2)\n",
    "    new_df = df.set_index(new_index)\n",
    "    return new_df\n",
    "\n"
   ]
  },
  {
   "cell_type": "code",
   "execution_count": 7,
   "id": "2a64d3f7-4740-48b2-9d04-7ba43a392ed4",
   "metadata": {},
   "outputs": [
    {
     "name": "stdout",
     "output_type": "stream",
     "text": [
      "   A  B  C\n",
      "1  1  4  7\n",
      "3  2  5  8\n",
      "5  3  6  9\n"
     ]
    }
   ],
   "source": [
    "## To use this function on a DataFrame with columns 'A', 'B', and 'C', you would simply call it like this:\n",
    "df = pd.DataFrame({'A': [1, 2, 3], 'B': [4, 5, 6], 'C': [7, 8, 9]})\n",
    "df = reindex_dataframe(df)\n",
    "print(df)"
   ]
  },
  {
   "cell_type": "markdown",
   "id": "7b52dc5a-850e-493c-80c9-642ce4621d19",
   "metadata": {},
   "source": [
    "## Q3. You have a Pandas DataFrame df with a column named 'Values'. Write a Python function that iterates over the DataFrame and calculates the sum of the first three values in the 'Values' column. The function should print the sum to the console.\n",
    "For example, if the 'Values' column of df contains the values [10, 20, 30, 40, 50], your function should\n",
    "calculate and print the sum of the first three values, which is 60."
   ]
  },
  {
   "cell_type": "code",
   "execution_count": 6,
   "id": "fba4a311-a73d-46d3-ab14-9946c1a02732",
   "metadata": {},
   "outputs": [],
   "source": [
    "def sum_first_three_values(df):\n",
    "    total = 0\n",
    "    for i, row in df.iterrows():\n",
    "        if i < 3:\n",
    "            total += row['Values']\n",
    "    print(total)"
   ]
  },
  {
   "cell_type": "code",
   "execution_count": 8,
   "id": "4d664dce-2d21-4335-8956-99a39c3cfe30",
   "metadata": {},
   "outputs": [
    {
     "name": "stdout",
     "output_type": "stream",
     "text": [
      "60\n"
     ]
    }
   ],
   "source": [
    "\n",
    "#This function iterates over the rows of the DataFrame df using the iterrows() method. For each row, it checks if the index i is less than 3  and if so, it adds the value in the 'Values' column for that row to the total variable. Finally, it prints the total to the console.\n",
    "\n",
    "df = pd.DataFrame({'Values': [10, 20, 30, 40, 50]})\n",
    "sum_first_three_values(df)"
   ]
  },
  {
   "cell_type": "markdown",
   "id": "871642f9-9c12-4ed5-b7cd-5c883e0cf35a",
   "metadata": {},
   "source": [
    "## Q4. Given a Pandas DataFrame df with a column 'Text', write a Python function to create a new column 'Word_Count' that contains the number of words in each row of the 'Text' column."
   ]
  },
  {
   "cell_type": "code",
   "execution_count": 9,
   "id": "182e8208-522e-4917-8772-28897b3a67cf",
   "metadata": {},
   "outputs": [],
   "source": [
    "def count_words(df):\n",
    "    df['Word_Count'] = df['Text'].apply(lambda x: len(x.split()))\n",
    "    return df"
   ]
  },
  {
   "cell_type": "code",
   "execution_count": 10,
   "id": "3331f002-0de2-48fc-8a18-eb5e4aa84bca",
   "metadata": {},
   "outputs": [
    {
     "name": "stdout",
     "output_type": "stream",
     "text": [
      "                             Text  Word_Count\n",
      "0           This is the first row           5\n",
      "1  Second row contains more words           5\n",
      "2  Third row with even more words           6\n"
     ]
    }
   ],
   "source": [
    "\n",
    "df = pd.DataFrame({'Text': ['This is the first row', 'Second row contains more words', 'Third row with even more words']})\n",
    "df = count_words(df)\n",
    "print(df)"
   ]
  },
  {
   "cell_type": "markdown",
   "id": "7d11ed21-7d74-4a0c-a112-1b701f33777b",
   "metadata": {},
   "source": [
    "## Q5. How are DataFrame.size() and DataFrame.shape() different?"
   ]
  },
  {
   "cell_type": "markdown",
   "id": "0846dde7-b4d5-4029-88cb-94f0f0e1b1d7",
   "metadata": {},
   "source": [
    "DataFrame.size() returns the total number of elements in the DataFrame, which is equal to the product of the number of rows and the number of columns in the DataFrame.\n",
    "\n",
    "DataFrame.shape() returns a tuple that contains the number of rows and the number of columns in the DataFrame."
   ]
  },
  {
   "cell_type": "code",
   "execution_count": 11,
   "id": "88714e86-db7d-495e-bc08-58a9df8f2087",
   "metadata": {},
   "outputs": [
    {
     "name": "stdout",
     "output_type": "stream",
     "text": [
      "12\n",
      "(3, 4)\n"
     ]
    }
   ],
   "source": [
    "import pandas as pd\n",
    "\n",
    "# Create a DataFrame with 3 rows and 4 columns\n",
    "df = pd.DataFrame({'A': [1, 2, 3], 'B': [4, 5, 6], 'C': [7, 8, 9], 'D': [10, 11, 12]})\n",
    "\n",
    "# Get the size of the DataFrame\n",
    "size = df.size\n",
    "print(size)  \n",
    "\n",
    "# Get the shape of the DataFrame\n",
    "shape = df.shape\n",
    "print(shape)  "
   ]
  },
  {
   "cell_type": "markdown",
   "id": "9b147e19-c1a6-4530-9458-7b988f788faf",
   "metadata": {},
   "source": [
    "## Q6. Which function of pandas do we use to read an excel file?"
   ]
  },
  {
   "cell_type": "code",
   "execution_count": null,
   "id": "a08c6c89-aa6d-418f-8f3d-f05c5e78e29f",
   "metadata": {},
   "outputs": [],
   "source": [
    "import pandas as pd\n",
    "\n",
    "# Read Excel file into a Pandas DataFrame\n",
    "df = pd.read_excel('example.xlsx')\n",
    "\n",
    "# Display the DataFrame\n",
    "print(df)"
   ]
  },
  {
   "cell_type": "markdown",
   "id": "6edad997-357e-4b6f-9c00-b6fdadf821ef",
   "metadata": {},
   "source": [
    "In this example, read_excel() function is used to read an Excel file named example.xlsx into a Pandas DataFrame df."
   ]
  },
  {
   "cell_type": "code",
   "execution_count": null,
   "id": "0e4d64ca-f04d-4752-962f-3bd4ead3770f",
   "metadata": {},
   "outputs": [],
   "source": [
    "import pandas as pd\n",
    "\n",
    "# Read data from sheet named 'Sheet1' in the Excel file\n",
    "df = pd.read_excel('example.xlsx', sheet_name='Sheet1')\n",
    "\n",
    "# Display the DataFrame\n",
    "print(df)\n",
    "\n",
    "#In this example, the read_excel() function reads data from the sheet named 'Sheet1' in the Excel file"
   ]
  },
  {
   "cell_type": "markdown",
   "id": "5395a18f-1e0a-4ecd-a9f4-202db22005f8",
   "metadata": {},
   "source": [
    "## Q7. You have a Pandas DataFrame df that contains a column named 'Email' that contains email addresses in the format 'username@domain.com'. Write a Python function that creates a new column 'Username' in df that contains only the username part of each email address.The username is the part of the email address that appears before the '@' symbol. For example, if the\n",
    "email address is 'john.doe@example.com', the 'Username' column should contain 'john.doe'. Your\n",
    "function should extract the username from each email address and store it in the new 'Username'\n",
    "column."
   ]
  },
  {
   "cell_type": "code",
   "execution_count": 3,
   "id": "8e9f7a52-ce91-4f04-ab9f-fd20625411dd",
   "metadata": {},
   "outputs": [],
   "source": [
    "def extract_username(df):\n",
    "    df['Username'] = df['Email'].apply(lambda x: x.split('@')[0])\n",
    "    return df"
   ]
  },
  {
   "cell_type": "code",
   "execution_count": 4,
   "id": "cdac3051-6287-44e7-aa0c-ec05782a5ebc",
   "metadata": {},
   "outputs": [
    {
     "name": "stdout",
     "output_type": "stream",
     "text": [
      "                     Email     Username\n",
      "0     john.doe@example.com     john.doe\n",
      "1     jane.doe@example.com     jane.doe\n",
      "2  james.smith@example.com  james.smith\n"
     ]
    }
   ],
   "source": [
    "# Create a sample DataFrame\n",
    "import pandas as pd\n",
    "df = pd.DataFrame({'Email': ['john.doe@example.com', 'jane.doe@example.com', 'james.smith@example.com']})\n",
    "\n",
    "# Call the function to extract the usernames\n",
    "df = extract_username(df)\n",
    "\n",
    "# Display the updated DataFrame\n",
    "print(df)"
   ]
  },
  {
   "cell_type": "markdown",
   "id": "c8ca40f3-4b57-4e03-9ad6-7533fe415677",
   "metadata": {},
   "source": [
    "This function uses the apply() method with a lambda function to apply the split() method to each row in the 'Email' column. The split() method splits the email address string into two parts based on the '@' character and returns a list with two elements, the first of which is the username. The lambda function then extracts the first element of this list (i.e., the username) and returns it. The resulting values are assigned to a new column 'Username' in the DataFrame using the ['Username'] = syntax."
   ]
  },
  {
   "cell_type": "markdown",
   "id": "fa89e6e6-c180-4b15-8cf6-857a38394c76",
   "metadata": {},
   "source": [
    "## Q8. You have a Pandas DataFrame df with columns 'A', 'B', and 'C'. Write a Python function that selects all rows where the value in column 'A' is greater than 5 and the value in column 'B' is less than 10. The function should return a new DataFrame that contains only the selected rows.\n"
   ]
  },
  {
   "cell_type": "markdown",
   "id": "c7a27bb8-c410-4b01-a3ac-9eb9aef521ef",
   "metadata": {},
   "source": [
    "For example, if df contains the following values:\n",
    "A B C\n",
    "0 3 5 1\n",
    "1 8 2 7\n",
    "2 6 9 4\n",
    "3 2 3 5\n",
    "4 9 1 2\n",
    "\n",
    "Your function should select the following rows: A B C\n",
    "1 8 2 7\n",
    "4 9 1 2\n",
    "The function should return a new DataFrame that contains only the selected rows."
   ]
  },
  {
   "cell_type": "code",
   "execution_count": 22,
   "id": "7f046d20-c9f1-478f-aaea-086d9299698f",
   "metadata": {},
   "outputs": [],
   "source": [
    "import pandas as pd\n",
    "\n",
    "# Create the DataFrame\n",
    "df = pd.DataFrame({'A': [3, 8, 6, 2, 9], 'B': [5, 2, 9, 3, 1], 'C': [1, 7, 4, 5, 2]})\n",
    "\n",
    "# Define the select_rows function\n",
    "def select_rows(df):\n",
    "    selected_df = df[(df['A'] > 5) & (df['B'] < 10)]\n",
    "    return selected_df\n",
    "\n"
   ]
  },
  {
   "cell_type": "code",
   "execution_count": 23,
   "id": "6ff16493-171f-419e-acea-6aac15dc1de3",
   "metadata": {},
   "outputs": [
    {
     "name": "stdout",
     "output_type": "stream",
     "text": [
      "   A  B  C\n",
      "1  8  2  7\n",
      "2  6  9  4\n",
      "4  9  1  2\n"
     ]
    }
   ],
   "source": [
    "# Call the select_rows function\n",
    "selected_df = select_rows(df)\n",
    "\n",
    "# Print the selected rows\n",
    "print(selected_df)"
   ]
  },
  {
   "cell_type": "markdown",
   "id": "de556d4c-0dda-474d-bd14-7aa7eb0bf1b5",
   "metadata": {},
   "source": [
    "## Q9. Given a Pandas DataFrame df with a column 'Values', write a Python function to calculate the mean, median, and standard deviation of the values in the 'Values' column."
   ]
  },
  {
   "cell_type": "code",
   "execution_count": 4,
   "id": "36d4bf68-0db4-485a-907d-b63882fa282b",
   "metadata": {},
   "outputs": [],
   "source": [
    "def calculate_stats(df):\n",
    "    # Calculate the mean, median, and standard deviation of the 'Values' column\n",
    "    mean = df['Values'].mean()\n",
    "    median = df['Values'].median()\n",
    "    std_dev = df['Values'].std()\n",
    "\n",
    "    # Print the statistics to the console\n",
    "    print(\"Mean:\", mean)\n",
    "    print(\"Median:\", median)\n",
    "    print(\"Standard deviation:\", std_dev)"
   ]
  },
  {
   "cell_type": "code",
   "execution_count": 6,
   "id": "d2f28549-2380-4f71-8ee3-35a473615010",
   "metadata": {},
   "outputs": [
    {
     "name": "stdout",
     "output_type": "stream",
     "text": [
      "Mean: 30.0\n",
      "Median: 30.0\n",
      "Standard deviation: 15.811388300841896\n"
     ]
    }
   ],
   "source": [
    "# Create a sample DataFrame\n",
    "import pandas as pd\n",
    "df = pd.DataFrame({'Values': [10, 20, 30, 40, 50]})\n",
    "# Call the function to calculate the statistics\n",
    "calculate_stats(df)"
   ]
  },
  {
   "cell_type": "markdown",
   "id": "57499428-1e7e-493d-8b61-d9e7e07adc87",
   "metadata": {},
   "source": [
    "## Q10. Given a Pandas DataFrame df with a column 'Sales' and a column 'Date', write a Python function to create a new column 'MovingAverage' that contains the moving average of the sales for the past 7 days for each row in the DataFrame. The moving average should be calculated using a window of size 7 and should include the current day."
   ]
  },
  {
   "cell_type": "markdown",
   "id": "d642ec7e-2a28-4d1b-a349-3a37cb37534d",
   "metadata": {},
   "source": [
    "You can use the rolling() method of the Pandas DataFrame to calculate the rolling mean of a column over a given window size. "
   ]
  },
  {
   "cell_type": "code",
   "execution_count": 15,
   "id": "9f9ab851-26bd-48d7-bd41-ffb026e1a2af",
   "metadata": {},
   "outputs": [],
   "source": [
    "import pandas as pd\n",
    "\n",
    "def calculate_moving_average(df):\n",
    "    window_size = 7\n",
    "    ma_column = 'MovingAverage'\n",
    "    df[ma_column] = df['Sales'].rolling(window_size, min_periods=1).mean()\n",
    "    return df"
   ]
  },
  {
   "cell_type": "code",
   "execution_count": 17,
   "id": "01ec5b98-eef0-40b1-963e-24b2337db398",
   "metadata": {},
   "outputs": [
    {
     "name": "stdout",
     "output_type": "stream",
     "text": [
      "   Sales       Date  MovingAverage\n",
      "0     10 2022-01-01           10.0\n",
      "1     20 2022-01-02           15.0\n",
      "2     30 2022-01-03           20.0\n",
      "3     40 2022-01-04           25.0\n",
      "4     50 2022-01-05           30.0\n",
      "5     60 2022-01-06           35.0\n",
      "6     70 2022-01-07           40.0\n",
      "7     80 2022-01-08           50.0\n",
      "8     90 2022-01-09           60.0\n",
      "9    100 2022-01-10           70.0\n"
     ]
    }
   ],
   "source": [
    "# Create a sample DataFrame\n",
    "df = pd.DataFrame({'Sales': [10, 20, 30, 40, 50, 60, 70, 80, 90, 100],\n",
    "                   'Date': pd.date_range(start='2022-01-01', periods=10, freq='D')})\n",
    "\n",
    "# Call the function to calculate the moving average\n",
    "df = calculate_moving_average(df)\n",
    "\n",
    "# Print the modified DataFrame with the new 'MovingAverage' column\n",
    "print(df)"
   ]
  },
  {
   "cell_type": "markdown",
   "id": "33950fc6-6695-49f5-9c09-7a23249b6127",
   "metadata": {},
   "source": [
    "## Q11. You have a Pandas DataFrame df with a column 'Date'. Write a Python function that creates a new column 'Weekday' in the DataFrame. The 'Weekday' column should contain the weekday name (e.g. Monday, Tuesday) corresponding to each date in the 'Date' column."
   ]
  },
  {
   "cell_type": "markdown",
   "id": "36cbe50f-4f1a-4c5d-9c1b-25c876c7a446",
   "metadata": {},
   "source": [
    "For example, if df contains the following values:\n",
    "Date\n",
    "0 2023-01-01\n",
    "1 2023-01-02\n",
    "2 2023-01-03\n",
    "3 2023-01-04\n",
    "4 2023-01-05\n",
    "Your function should create the following DataFrame:\n",
    "\n",
    "Date Weekday\n",
    "0 2023-01-01 Sunday\n",
    "1 2023-01-02 Monday\n",
    "2 2023-01-03 Tuesday\n",
    "3 2023-01-04 Wednesday\n",
    "4 2023-01-05 Thursday\n",
    "The function should return the modified DataFrame."
   ]
  },
  {
   "cell_type": "code",
   "execution_count": 19,
   "id": "7ef67aef-cc6d-43ed-9948-551fc84f51a9",
   "metadata": {},
   "outputs": [
    {
     "name": "stdout",
     "output_type": "stream",
     "text": [
      "        Date    Weekday\n",
      "0 2023-01-01     Sunday\n",
      "1 2023-01-02     Monday\n",
      "2 2023-01-03    Tuesday\n",
      "3 2023-01-04  Wednesday\n",
      "4 2023-01-05   Thursday\n"
     ]
    }
   ],
   "source": [
    "import pandas as pd\n",
    "\n",
    "def add_weekday_column(df):\n",
    "    df['Weekday'] = df['Date'].dt.strftime('%A')\n",
    "    return df\n",
    "\n",
    "df = pd.DataFrame({\n",
    "    'Date': ['2023-01-01', '2023-01-02', '2023-01-03', '2023-01-04', '2023-01-05']\n",
    "})\n",
    "df['Date'] = pd.to_datetime(df['Date'])\n",
    "df_with_weekday = add_weekday_column(df)\n",
    "print(df_with_weekday)"
   ]
  },
  {
   "cell_type": "markdown",
   "id": "acb81c4a-12ff-41a1-9922-2c724a99f2b5",
   "metadata": {},
   "source": [
    "## Q12. Given a Pandas DataFrame df with a column 'Date' that contains timestamps, write a Python function to select all rows where the date is between '2023-01-01' and '2023-01-31'."
   ]
  },
  {
   "cell_type": "code",
   "execution_count": null,
   "id": "dc376fa6-52da-4fbf-8346-ea5830d8fda9",
   "metadata": {},
   "outputs": [],
   "source": [
    "import pandas as pd\n",
    "\n",
    "def select_january_data(df):\n",
    "    start_date = pd.Timestamp('2023-01-01')\n",
    "    end_date = pd.Timestamp('2023-01-31')\n",
    "    return df[(df['Date'] >= start_date) & (df['Date'] <= end_date)]"
   ]
  },
  {
   "cell_type": "markdown",
   "id": "d91b4b6d-bb96-4564-b097-64f53eaed3ac",
   "metadata": {},
   "source": [
    "In this function, we define two variables start_date and end_date that represent the start and end dates of the range we want to select. We then use boolean indexing to select the rows where the 'Date' column is between start_date and end_date. The & operator is used to combine two boolean conditions, so that only rows that satisfy both conditions are included in the output. "
   ]
  },
  {
   "cell_type": "markdown",
   "id": "5167cc64-00df-439b-b595-6c2b8e54182f",
   "metadata": {},
   "source": [
    "## Q13. To use the basic functions of pandas, what is the first and foremost necessary library that needs to be imported?"
   ]
  },
  {
   "cell_type": "code",
   "execution_count": null,
   "id": "10536973-51ef-4e29-b095-d30d179a42f9",
   "metadata": {},
   "outputs": [],
   "source": [
    "import pandas as pd"
   ]
  },
  {
   "cell_type": "code",
   "execution_count": null,
   "id": "78dd72aa-9d70-4388-a28e-9bbe9e122869",
   "metadata": {},
   "outputs": [],
   "source": []
  }
 ],
 "metadata": {
  "kernelspec": {
   "display_name": "Python 3 (ipykernel)",
   "language": "python",
   "name": "python3"
  },
  "language_info": {
   "codemirror_mode": {
    "name": "ipython",
    "version": 3
   },
   "file_extension": ".py",
   "mimetype": "text/x-python",
   "name": "python",
   "nbconvert_exporter": "python",
   "pygments_lexer": "ipython3",
   "version": "3.10.8"
  }
 },
 "nbformat": 4,
 "nbformat_minor": 5
}
