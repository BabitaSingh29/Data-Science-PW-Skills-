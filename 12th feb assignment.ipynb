{
 "cells": [
  {
   "cell_type": "markdown",
   "id": "32ab8498-9798-40fd-8f5c-78b217e5b3ab",
   "metadata": {},
   "source": [
    "## Q1. What is an exception in python? Write the differences between Exceptions and Syntax errors."
   ]
  },
  {
   "cell_type": "markdown",
   "id": "e0f0481d-06ca-4ff4-a602-e84b5117df50",
   "metadata": {},
   "source": [
    "An exception is an error that occurs during program execution. When an exception occurs, the Python interpreter stops executing the program and raises an exception object. The exception object contains information about the type of error that occurred, as well as any other relevant details that can help with debugging.\n",
    "\n",
    "Syntax errors, on the other hand, occur when the Python interpreter is unable to parse the code due to a mistake in the syntax. These errors usually occur when the code contains spelling mistakes, incorrect punctuation, or missing brackets."
   ]
  },
  {
   "cell_type": "markdown",
   "id": "976e8c2e-2f38-4695-8230-eac5d862263f",
   "metadata": {},
   "source": [
    "## Q2. What happens when an exception is not handled? Explain with an example."
   ]
  },
  {
   "cell_type": "markdown",
   "id": "079f974d-a76e-4971-8044-6832c413e339",
   "metadata": {},
   "source": [
    "When an exception is not handled in a Python program, the program terminates abruptly and prints an error message to the console. This behavior is known as an \"unhandled exception\" or a \"runtime error.\""
   ]
  },
  {
   "cell_type": "code",
   "execution_count": 1,
   "id": "0788d305-2cbe-4790-abb5-313d26ce6a44",
   "metadata": {},
   "outputs": [
    {
     "ename": "ZeroDivisionError",
     "evalue": "division by zero",
     "output_type": "error",
     "traceback": [
      "\u001b[0;31m---------------------------------------------------------------------------\u001b[0m",
      "\u001b[0;31mZeroDivisionError\u001b[0m                         Traceback (most recent call last)",
      "Cell \u001b[0;32mIn[1], line 4\u001b[0m\n\u001b[1;32m      2\u001b[0m numerator \u001b[38;5;241m=\u001b[39m \u001b[38;5;241m10\u001b[39m\n\u001b[1;32m      3\u001b[0m denominator \u001b[38;5;241m=\u001b[39m \u001b[38;5;241m0\u001b[39m\n\u001b[0;32m----> 4\u001b[0m result \u001b[38;5;241m=\u001b[39m \u001b[43mnumerator\u001b[49m\u001b[43m \u001b[49m\u001b[38;5;241;43m/\u001b[39;49m\u001b[43m \u001b[49m\u001b[43mdenominator\u001b[49m\n\u001b[1;32m      5\u001b[0m \u001b[38;5;28mprint\u001b[39m(result)\n",
      "\u001b[0;31mZeroDivisionError\u001b[0m: division by zero"
     ]
    }
   ],
   "source": [
    "#Exmaple\n",
    "numerator = 10\n",
    "denominator = 0\n",
    "result = numerator / denominator\n",
    "print(result)"
   ]
  },
  {
   "cell_type": "markdown",
   "id": "6e8ece5f-21a0-47a5-bc8f-f7b2b41b337e",
   "metadata": {},
   "source": [
    "## Q3. Which Python statements are used to catch and handle exceptions? Explain with an example."
   ]
  },
  {
   "cell_type": "markdown",
   "id": "3a104a0b-b37e-4627-a2d9-127f7ff3305a",
   "metadata": {},
   "source": [
    " The try and except block in Python is used to catch and handle exceptions"
   ]
  },
  {
   "cell_type": "code",
   "execution_count": null,
   "id": "a666122f-c095-44cc-96a3-64de19792fff",
   "metadata": {},
   "outputs": [],
   "source": [
    "def divide(a, b):\n",
    "    try:\n",
    "        result = a / b\n",
    "        print(\"Result:\", result)\n",
    "    except ZeroDivisionError:\n",
    "        print(\"Error: cannot divide by zero\")\n",
    "    except TypeError:\n",
    "        print(\"Error: unsupported operand type(s) for /\")"
   ]
  },
  {
   "cell_type": "code",
   "execution_count": null,
   "id": "7699a5d3-c224-46aa-a915-fd28b62bcb2f",
   "metadata": {},
   "outputs": [],
   "source": [
    "divide(10, 0) # raises ZeroDivisionError\n",
    "divide(10, \"abc\") # raises TypeError"
   ]
  },
  {
   "cell_type": "markdown",
   "id": "d9933e28-5a33-4b8a-9410-77917802985c",
   "metadata": {},
   "source": [
    "## Q4. Explain with an example:\n",
    "a. try and else\n",
    "b. finally\n",
    "c. raise\n"
   ]
  },
  {
   "cell_type": "markdown",
   "id": "77ae29f7-d95a-46d7-9d2a-f6445e6d698e",
   "metadata": {},
   "source": [
    "a.try-else:\n",
    "\n",
    "The try-else block is used to specify a piece of code that should be executed if no exceptions are raised in the try block."
   ]
  },
  {
   "cell_type": "code",
   "execution_count": 2,
   "id": "a200e4cb-ffd1-46d9-82b8-9c101d194c26",
   "metadata": {},
   "outputs": [
    {
     "name": "stdin",
     "output_type": "stream",
     "text": [
      "Enter a number:  23\n"
     ]
    },
    {
     "name": "stdout",
     "output_type": "stream",
     "text": [
      "You entered: 23\n"
     ]
    }
   ],
   "source": [
    "try:\n",
    "    x = int(input(\"Enter a number: \"))\n",
    "except ValueError:\n",
    "    print(\"Invalid input\")\n",
    "else:\n",
    "    print(\"You entered:\", x)"
   ]
  },
  {
   "cell_type": "markdown",
   "id": "c5ec9752-f5a2-4313-8184-45ad0954c497",
   "metadata": {},
   "source": [
    "In this example, we are using a try-except-else block to convert user input to an integer. If the user enters an invalid input, a ValueError will be raised, and the code in the except block will be executed. If the user enters a valid input, the int() function will convert it to an integer, and the code in the else block will be executed"
   ]
  },
  {
   "cell_type": "markdown",
   "id": "89a4ca27-a3f6-4233-a467-2cf19de9dc81",
   "metadata": {},
   "source": [
    "b. finally:\n",
    "\n",
    "The finally block is used to specify a piece of code that should be executed regardless of whether an exception was raised or not. "
   ]
  },
  {
   "cell_type": "code",
   "execution_count": 8,
   "id": "04d5eac1-17d8-421a-ad40-7eac51320bcf",
   "metadata": {},
   "outputs": [],
   "source": [
    "try:\n",
    "    file1 = open(\"data.txt\", \"r\")\n",
    "    # some code that might raise an exception\n",
    "finally:\n",
    "    file1.close()"
   ]
  },
  {
   "cell_type": "markdown",
   "id": "b196e279-60bb-42cc-b732-81116ca1d74a",
   "metadata": {},
   "source": [
    "In this example, we open a file named \"data.txt\" for reading in the try block, and perform some operations that may raise an exception. Regardless of whether an exception occurs or not, the finally block will be executed, ensuring that the file is closed properly."
   ]
  },
  {
   "cell_type": "markdown",
   "id": "e1e5497b-4c2e-46d1-9261-2cd4f9b739c9",
   "metadata": {},
   "source": [
    "c. The raise statement is used to explicitly raise an exception. "
   ]
  },
  {
   "cell_type": "code",
   "execution_count": 15,
   "id": "336f0b34-23b5-4cd3-beb5-b056311e7600",
   "metadata": {},
   "outputs": [
    {
     "name": "stdout",
     "output_type": "stream",
     "text": [
      "Cannot divide by zero\n"
     ]
    }
   ],
   "source": [
    "def divide(a, b):\n",
    "    if b == 0:\n",
    "        raise ValueError(\"Cannot divide by zero\")\n",
    "    return a / b\n",
    "\n",
    "try:\n",
    "    result = divide(10, 0)\n",
    "    print(result)\n",
    "except ValueError as e:\n",
    "    print(e)"
   ]
  },
  {
   "cell_type": "markdown",
   "id": "8b1eb930-30f6-47be-8d6b-c70695b2f892",
   "metadata": {},
   "source": [
    "In this example, we have defined a divide() function that raises a ValueError if the second argument b is 0. We use a try-except block to call this function and handle any raised exceptions. In this case, we expect a ValueError to be raised, so we catch it in the except block and print the error message."
   ]
  },
  {
   "cell_type": "markdown",
   "id": "40659444-f6cb-4d17-b165-9deb1609dcad",
   "metadata": {},
   "source": [
    "## Q5. What are custom Exceptions in python? Why do we need Custom Exceptions? Explain with an example."
   ]
  },
  {
   "cell_type": "markdown",
   "id": "61eeeebe-cdce-4aa8-938f-4dfb78bdd06e",
   "metadata": {},
   "source": [
    "Custom exceptions in Python are user-defined exceptions that allow you to create specific types of exceptions that are relevant to your application or use case. They are useful for handling specific types of errors that may occur in your program and allow for more precise error handling.\n",
    "\n",
    " For example, if you are developing a banking application, you may want to create a custom exception to handle situations where a user tries to withdraw more money than they have in their account."
   ]
  },
  {
   "cell_type": "code",
   "execution_count": 1,
   "id": "978a3350-a6e2-45ff-bb2f-2c8cb815aaf4",
   "metadata": {},
   "outputs": [],
   "source": [
    "class InsufficientFundsError(Exception):\n",
    "    pass\n",
    "def withdraw(amount, balance):\n",
    "    if amount > balance:\n",
    "        raise InsufficientFundsError(\"You do not have enough funds in your account.\")\n",
    "    else:\n",
    "        return balance - amount"
   ]
  },
  {
   "cell_type": "code",
   "execution_count": 2,
   "id": "55d064e0-b653-4435-a183-d8bd447a98eb",
   "metadata": {},
   "outputs": [
    {
     "name": "stdout",
     "output_type": "stream",
     "text": [
      "You do not have enough funds in your account.\n"
     ]
    }
   ],
   "source": [
    "balance = 1000\n",
    "amount = 1500\n",
    "\n",
    "try:\n",
    "    balance = withdraw(amount, balance)\n",
    "except InsufficientFundsError as e:\n",
    "    print(e)"
   ]
  },
  {
   "cell_type": "markdown",
   "id": "f3739570-17b6-4c69-96c3-d4605d6b5c21",
   "metadata": {},
   "source": [
    "## Q6. Create a custom exception class. Use this class to handle an exception."
   ]
  },
  {
   "cell_type": "code",
   "execution_count": 4,
   "id": "a60e7148-399a-419c-934b-372f1811b5df",
   "metadata": {},
   "outputs": [
    {
     "name": "stdout",
     "output_type": "stream",
     "text": [
      "Error: Cannot take the square root of a negative number.\n"
     ]
    }
   ],
   "source": [
    "class InvalidInputError(Exception):\n",
    "    pass\n",
    "\n",
    "def square_root(x):\n",
    "    if x < 0:\n",
    "        raise InvalidInputError(\"Cannot take the square root of a negative number.\")\n",
    "    else:\n",
    "        return x**2\n",
    "\n",
    "try:\n",
    "    result = square_root(-4)\n",
    "except InvalidInputError as e:\n",
    "    print(\"Error: \" + str(e))"
   ]
  }
 ],
 "metadata": {
  "kernelspec": {
   "display_name": "Python 3 (ipykernel)",
   "language": "python",
   "name": "python3"
  },
  "language_info": {
   "codemirror_mode": {
    "name": "ipython",
    "version": 3
   },
   "file_extension": ".py",
   "mimetype": "text/x-python",
   "name": "python",
   "nbconvert_exporter": "python",
   "pygments_lexer": "ipython3",
   "version": "3.10.8"
  }
 },
 "nbformat": 4,
 "nbformat_minor": 5
}
