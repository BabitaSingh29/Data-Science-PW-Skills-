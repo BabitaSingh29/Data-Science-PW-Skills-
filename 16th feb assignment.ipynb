{
 "cells": [
  {
   "cell_type": "markdown",
   "id": "b84e1c89-251c-4861-b024-6d9b246abbd4",
   "metadata": {},
   "source": [
    "## Q1. What is a database? Differentiate between SQL and NoSQL databases."
   ]
  },
  {
   "cell_type": "markdown",
   "id": "75cb8c8f-fc56-4004-903f-65ab55c7b713",
   "metadata": {},
   "source": [
    "A database is a structured collection of data that can be stored, organized, and accessed electronically. It is a fundamental tool for managing and manipulating large amounts of data efficiently and effectively.\n",
    "\n",
    "SQL databases are relational databases that store data in tables with a predefined schema. The schema defines the columns and data types for each table, and the relationships between the tables. SQL databases use SQL as their query language to retrieve and manipulate data. Examples of SQL databases include MySQL, Oracle, and PostgreSQL.\n",
    "\n",
    "NoSQL databases, on the other hand, are non-relational databases that store data in flexible, dynamic schemas. NoSQL databases use a variety of data models, including document-oriented, key-value, graph, and column-family. NoSQL databases are designed to be highly scalable and can handle large volumes of unstructured data. Some examples of NoSQL databases include MongoDB, Cassandra, and Redis."
   ]
  },
  {
   "cell_type": "markdown",
   "id": "06777f9c-0c39-4b1c-8e37-693936069231",
   "metadata": {},
   "source": [
    "## Q2. What is DDL? Explain why CREATE, DROP, ALTER, and TRUNCATE are used with an example."
   ]
  },
  {
   "cell_type": "markdown",
   "id": "243c4312-b4a3-41cb-821e-5ed8bc3c1313",
   "metadata": {},
   "source": [
    "DDL stands for Data Definition Language, which is a subset of SQL used to create, modify, and delete database objects such as tables, views, indexes, and constraints.\n",
    "\n",
    "CREATE: used to create a new database object such as a table, view, or index. For example, the following command creates a new table called \"customers\" with three columns: \"id\", \"name\", and \"email\":"
   ]
  },
  {
   "cell_type": "code",
   "execution_count": null,
   "id": "c5b5f409-c6f2-47a3-82ee-8b1fe4281e92",
   "metadata": {},
   "outputs": [],
   "source": [
    "CREATE TABLE customers (\n",
    "    id INT PRIMARY KEY,\n",
    "    name VARCHAR(50),\n",
    "    email VARCHAR(50)\n",
    ");"
   ]
  },
  {
   "cell_type": "markdown",
   "id": "3edfe3ab-92ab-42e9-9f72-fef6e385ec56",
   "metadata": {},
   "source": [
    "DROP: used to delete an existing database object such as a table, view, or index. For example, the following command drops the \"customers\" table:\n",
    "**DROP TABLE customers;"
   ]
  },
  {
   "cell_type": "markdown",
   "id": "a4d5af20-7e08-4d13-8696-771ae40c1ebf",
   "metadata": {},
   "source": [
    "ALTER: used to modify the structure of an existing database object such as a table or view. For example, the following command adds a new column called \"address\" to the \"customers\" table:"
   ]
  },
  {
   "cell_type": "code",
   "execution_count": null,
   "id": "a7386d46-08d0-41d0-93db-83387c9d472d",
   "metadata": {},
   "outputs": [],
   "source": [
    "ALTER TABLE customers\n",
    "ADD COLUMN address VARCHAR(50);"
   ]
  },
  {
   "cell_type": "markdown",
   "id": "6fbaad9f-6147-4109-b672-66c776440aa8",
   "metadata": {},
   "source": [
    "TRUNCATE: used to delete all the data from an existing table while keeping its structure intact. For example, the following command deletes all the data from the \"customers\" table:\n",
    "**TRUNCATE TABLE customers;"
   ]
  },
  {
   "cell_type": "markdown",
   "id": "02ddae79-bc5e-430a-93b1-290efe259e02",
   "metadata": {},
   "source": [
    "## Q3. What is DML? Explain INSERT, UPDATE, and DELETE with an example."
   ]
  },
  {
   "cell_type": "markdown",
   "id": "262a80bd-e968-458b-82ac-d2169f97ee0d",
   "metadata": {},
   "source": [
    "DML stands for Data Manipulation Language, which is a subset of SQL used to insert, update, and delete data from tables in a database."
   ]
  },
  {
   "cell_type": "markdown",
   "id": "58fb723f-d436-4ef5-905a-a675968b9448",
   "metadata": {},
   "source": [
    "** INSERT: used to add new data to a table. For example, the following command inserts a new record into the \"customers\" table:"
   ]
  },
  {
   "cell_type": "code",
   "execution_count": null,
   "id": "05835612-4b79-4cbd-a898-e87ca32c73c4",
   "metadata": {},
   "outputs": [],
   "source": [
    "INSERT INTO customers (id, name, email)\n",
    "VALUES (1, 'Babita Singh', 'babitasingh@example.com');"
   ]
  },
  {
   "cell_type": "markdown",
   "id": "72061276-de5f-4221-a42a-1424cc580663",
   "metadata": {},
   "source": [
    "** UPDATE: used to modify existing data in a table. For example, the following command updates the email address for the customer with ID 1:"
   ]
  },
  {
   "cell_type": "code",
   "execution_count": null,
   "id": "346a1147-e62c-4cfe-b23c-d3beed0314b9",
   "metadata": {},
   "outputs": [],
   "source": [
    "UPDATE customers\n",
    "SET email = 'bsingh@example.com'\n",
    "WHERE id = 1;"
   ]
  },
  {
   "cell_type": "markdown",
   "id": "bf1f800b-6d26-41ff-afed-7c2cc6f4ac3b",
   "metadata": {},
   "source": [
    "** DELETE: used to delete data from a table. For example, the following command deletes the record for the customer with ID 1:"
   ]
  },
  {
   "cell_type": "code",
   "execution_count": null,
   "id": "b3bc5ad2-3a14-436f-b38c-be08c74a81a8",
   "metadata": {},
   "outputs": [],
   "source": [
    "DELETE FROM customers\n",
    "WHERE id = 1;"
   ]
  },
  {
   "cell_type": "markdown",
   "id": "6a047317-abed-40fa-bf4f-36a35ed66e6a",
   "metadata": {},
   "source": [
    "## Q4. What is DQL? Explain SELECT with an example."
   ]
  },
  {
   "cell_type": "markdown",
   "id": "2c64f2ca-2488-474c-aa56-b69bc7a235b4",
   "metadata": {},
   "source": [
    "DQL stands for Data Query Language, which is a subset of SQL used to retrieve data from tables in a database. The main command used in DQL is SELECT."
   ]
  },
  {
   "cell_type": "markdown",
   "id": "617432b8-1e3f-4a77-be87-5f7eb105f9cf",
   "metadata": {},
   "source": [
    "SELECT is used to retrieve data from one or more tables in a database. It allows you to specify which columns to retrieve"
   ]
  },
  {
   "cell_type": "code",
   "execution_count": null,
   "id": "0a8f4dd0-e3aa-42ce-90e3-c4ed032bd4a7",
   "metadata": {},
   "outputs": [],
   "source": [
    "SELECT name, salary\n",
    "FROM employees\n",
    "WHERE department = 'sales';"
   ]
  },
  {
   "cell_type": "markdown",
   "id": "06eeaafd-2ed2-46d9-a3b5-e960728c636b",
   "metadata": {},
   "source": [
    "## Q5. Explain Primary Key and Foreign Key."
   ]
  },
  {
   "cell_type": "markdown",
   "id": "64dcef95-0c8e-44d3-b077-1eb9a24f82b1",
   "metadata": {},
   "source": [
    "A Primary Key is a unique identifier for a record in a table. It is a column or a set of columns in a table that uniquely identifies each record in that table. A primary key is used to enforce data integrity and ensure that each record in the table can be uniquely identified.\n",
    "\n",
    "A Foreign Key is a column or set of columns in one table that refers to the primary key of another table. It is used to establish a relationship between the two tables. A foreign key is used to enforce referential integrity, which ensures that data in related tables remains consistent. "
   ]
  },
  {
   "cell_type": "markdown",
   "id": "d9069d97-be2a-482d-86c7-22900e7a0dc8",
   "metadata": {},
   "source": [
    "## Q6. Write a python code to connect MySQL to python. Explain the cursor() and execute() method."
   ]
  },
  {
   "cell_type": "code",
   "execution_count": null,
   "id": "ce177c5a-50ca-417b-93ce-ceb770b841ff",
   "metadata": {},
   "outputs": [],
   "source": [
    "import mysql.connector\n",
    "\n",
    "# Connect to the database\n",
    "mydb = mysql.connector.connect(\n",
    "  host=\"localhost\",\n",
    "  user=\"yourusername\",\n",
    "  password=\"yourpassword\",\n",
    "  database=\"mydatabase\"\n",
    ")\n",
    "\n",
    "# Create a cursor object\n",
    "mycursor = mydb.cursor()\n",
    "\n",
    "# Execute a SQL query\n",
    "mycursor.execute(\"SELECT * FROM customers\")\n",
    "\n",
    "# Fetch the results\n",
    "results = mycursor.fetchall()\n",
    "\n",
    "# Print the results\n",
    "for row in results:\n",
    "  print(row)"
   ]
  },
  {
   "cell_type": "markdown",
   "id": "01935402-9755-478e-81d3-1d0c459e8881",
   "metadata": {},
   "source": [
    "## Q7. Give the order of execution of SQL clauses in an SQL query."
   ]
  },
  {
   "cell_type": "markdown",
   "id": "e25201db-84c1-4611-abe2-44d9ffdefa33",
   "metadata": {},
   "source": [
    "**FROM clause: This clause specifies the table(s) from which to retrieve data.\n",
    "\n",
    "**JOIN clause: This clause is used to join multiple tables together based on a common field.\n",
    "\n",
    "**WHERE clause: This clause is used to filter the results of the query based on a condition.\n",
    "\n",
    "**GROUP BY clause: This clause is used to group the results of the query based on one or more columns.\n",
    "\n",
    "**HAVING clause: This clause is used to filter the results of the query after the GROUP BY clause has been applied.\n",
    "\n",
    "**SELECT clause: This clause is used to select the columns to retrieve from the table(s).\n",
    "\n",
    "**DISTINCT clause: This clause is used to remove duplicates from the results of the query.\n",
    "\n",
    "**ORDER BY clause: This clause is used to sort the results of the query based on one or more columns.\n",
    "\n",
    "**LIMIT clause: This clause is used to limit the number of results returned by the query.\n"
   ]
  }
 ],
 "metadata": {
  "kernelspec": {
   "display_name": "Python 3 (ipykernel)",
   "language": "python",
   "name": "python3"
  },
  "language_info": {
   "codemirror_mode": {
    "name": "ipython",
    "version": 3
   },
   "file_extension": ".py",
   "mimetype": "text/x-python",
   "name": "python",
   "nbconvert_exporter": "python",
   "pygments_lexer": "ipython3",
   "version": "3.10.8"
  }
 },
 "nbformat": 4,
 "nbformat_minor": 5
}
