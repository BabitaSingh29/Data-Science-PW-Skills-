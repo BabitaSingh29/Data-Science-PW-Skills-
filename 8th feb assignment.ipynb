{
 "cells": [
  {
   "cell_type": "markdown",
   "id": "1807bcf1-75ac-45ba-97ba-b8ea0856cdb7",
   "metadata": {},
   "source": [
    "## Q1. What is Abstraction in OOps? Explain with an example."
   ]
  },
  {
   "cell_type": "markdown",
   "id": "65745f24-233d-4038-8dbe-09cbfa87b9bc",
   "metadata": {},
   "source": [
    "Abstraction is one of the fundamental principles of object-oriented programming (OOPs) that allows us to represent complex real-world systems in a simplified manner. It involves hiding the implementation details of a system and exposing only the necessary features and functionalities to the users."
   ]
  },
  {
   "cell_type": "markdown",
   "id": "e08fc847-36e3-4bad-b9af-c94232b22679",
   "metadata": {},
   "source": [
    "One common example of abstraction in OOPs is a car. When we interact with a car, we don't need to know how the engine works, how the transmission system functions, or how the braking system operates. We only need to know how to start the car, how to drive it, and how to stop it."
   ]
  },
  {
   "cell_type": "code",
   "execution_count": 2,
   "id": "07e005dd-f389-49f3-b61f-7b26b7d945a1",
   "metadata": {},
   "outputs": [],
   "source": [
    "from abc import ABC, abstractmethod\n",
    "\n",
    "class Vehicle(ABC):\n",
    "    @abstractmethod\n",
    "    def start(self):\n",
    "        pass\n",
    "    \n",
    "    @abstractmethod\n",
    "    def stop(self):\n",
    "        pass\n",
    "\n",
    "class Car(Vehicle):\n",
    "    def start(self):\n",
    "        print(\"Car started\")\n",
    "    def stop(self):\n",
    "        print(\"Car stopped\")\n",
    "        \n",
    "    \n",
    "        \n",
    "class Bike(Vehicle):\n",
    "    def start(self):\n",
    "        print(\"Bike started\")\n",
    "        \n",
    "    def stop(self):\n",
    "        print(\"Bike stopped\")\n"
   ]
  },
  {
   "cell_type": "code",
   "execution_count": 9,
   "id": "248092de-2dfc-45d8-89ba-b3dd4bafcae6",
   "metadata": {},
   "outputs": [
    {
     "name": "stdout",
     "output_type": "stream",
     "text": [
      "Car started\n",
      "Car stopped\n",
      "Bike started\n",
      "Bike stopped\n"
     ]
    }
   ],
   "source": [
    "car = Car()\n",
    "car.start()  # output: Car started   \n",
    "car.stop()  # output: Car stopped\n",
    "bike = Bike()\n",
    "bike.start() # output: Bike started\n",
    "bike.stop()  # output: Bike stopped"
   ]
  },
  {
   "cell_type": "markdown",
   "id": "7dadfe10-f733-456c-99a5-b72fe02c2187",
   "metadata": {},
   "source": [
    "## Q2. Differentiate between Abstraction and Encapsulation. Explain with an example."
   ]
  },
  {
   "cell_type": "markdown",
   "id": "71f2ab9d-8f87-4aa7-a478-6bb0d6aa7a95",
   "metadata": {},
   "source": [
    "#### Abstraction is the process of hiding the implementation details and exposing only the necessary information to the user. It focuses on creating a simplified view of a complex system by ignoring the irrelevant details. Abstraction can be achieved using abstract classes, interfaces, or methods in programming.\n",
    "\n",
    "On the other hand, Encapsulation is the process of wrapping data and code into a single unit, known as a class. It is a way to protect data from unauthorized access or modification by restricting access to the internal details of a class. Encapsulation can be achieved using access modifiers such as public, private, and protected in programming."
   ]
  },
  {
   "cell_type": "markdown",
   "id": "139cb4c2-c697-47b6-bbf1-99758a7a1fcb",
   "metadata": {},
   "source": [
    "#### In simple terms, Abstraction focuses on what the object does, while Encapsulation focuses on how it does it."
   ]
  },
  {
   "cell_type": "code",
   "execution_count": 10,
   "id": "be4db62a-14aa-476c-867b-6442c7797990",
   "metadata": {},
   "outputs": [],
   "source": [
    "# Example of Abstraction using an abstract class\n",
    "from abc import ABC, abstractmethod\n",
    "\n",
    "class Shape(ABC):\n",
    "    @abstractmethod\n",
    "    def area(self):\n",
    "        pass\n",
    "    \n",
    "    @abstractmethod\n",
    "    def perimeter(self):\n",
    "        pass\n",
    "    \n",
    "class Circle(Shape):\n",
    "    def __init__(self, radius):\n",
    "        self.radius = radius\n",
    "    \n",
    "    def area(self):\n",
    "        return 3.14 * self.radius ** 2\n",
    "    \n",
    "    def perimeter(self):\n",
    "        return 2 * 3.14 * self.radius\n",
    "    \n",
    "# Example of Encapsulation using a class\n",
    "class BankAccount:\n",
    "    def __init__(self, account_number, balance):\n",
    "        self.__account_number = account_number\n",
    "        self.__balance = balance\n",
    "        \n",
    "    def deposit(self, amount):\n",
    "        self.__balance += amount\n",
    "        \n",
    "    def withdraw(self, amount):\n",
    "        if self.__balance >= amount:\n",
    "            self.__balance -= amount\n",
    "        else:\n",
    "            print(\"Insufficient balance\")\n",
    "            \n",
    "    def get_balance(self):\n",
    "        return self.__balance\n",
    "\n"
   ]
  },
  {
   "cell_type": "code",
   "execution_count": 11,
   "id": "678cebd3-5aaf-4533-a656-866fcf21d4c9",
   "metadata": {},
   "outputs": [
    {
     "name": "stdout",
     "output_type": "stream",
     "text": [
      "Area of circle: 78.5\n",
      "Perimeter of circle: 31.400000000000002\n",
      "Current balance: 1000\n",
      "Current balance: 1500\n",
      "Insufficient balance\n",
      "Current balance: 1000\n"
     ]
    }
   ],
   "source": [
    "circle = Circle(5)\n",
    "print(\"Area of circle:\", circle.area())   \n",
    "print(\"Perimeter of circle:\", circle.perimeter()) \n",
    "\n",
    "account = BankAccount(\"123456789\", 1000)\n",
    "print(\"Current balance:\", account.get_balance())   \n",
    "account.deposit(500)\n",
    "print(\"Current balance:\", account.get_balance())   \n",
    "account.withdraw(2000)   \n",
    "account.withdraw(500)\n",
    "print(\"Current balance:\", account.get_balance())   "
   ]
  },
  {
   "cell_type": "raw",
   "id": "b2447d9c-6f7d-4008-a9af-e2e6e44bc1a2",
   "metadata": {},
   "source": [
    "#### In this example, Shape is an abstract class that defines two abstract methods area and perimeter. Circle is a concrete class that inherits from Shape and implements its own area and perimeter methods. This is an example of Abstraction where we are hiding the implementation details of the area and perimeter methods from the users of the Circle class.\n",
    "\n",
    "On the other hand, BankAccount is a class that encapsulates the data and methods related to a bank account into a single unit. The account_number and balance attributes are encapsulated using the private access modifier (__). This restricts the access to these attributes from outside the class, and provides methods like deposit, withdraw, and get_balance to manipulate the account. This is an example of Encapsulation where we are protecting the data of the BankAccount class from unauthorized access or modification."
   ]
  },
  {
   "cell_type": "markdown",
   "id": "abdf6b45-fff0-45d4-b458-5afac6dc9de0",
   "metadata": {},
   "source": [
    "## Q3. What is abc module in python? Why is it used?"
   ]
  },
  {
   "cell_type": "markdown",
   "id": "7567274d-c6c0-4d29-8852-cca8c436de31",
   "metadata": {},
   "source": [
    "The abc module in Python stands for Abstract Base Classes. It provides a way to define abstract base classes in Python. An abstract base class is a class that contains one or more abstract methods, which do not have an implementation in the base class. Instead, the implementation is provided by the derived classes that inherit from the abstract base class.\n",
    "\n",
    "The abc module is used to implement abstract classes and methods in Python. It allows us to define interfaces or contracts that must be implemented by the derived classes. This helps to enforce a certain structure and behavior in the derived classes, making them more predictable and easier to work with."
   ]
  },
  {
   "cell_type": "code",
   "execution_count": 12,
   "id": "5065436b-73e2-48b0-b9b4-4ef1c26a77fd",
   "metadata": {},
   "outputs": [
    {
     "name": "stdout",
     "output_type": "stream",
     "text": [
      "Woof!\n",
      "Meow!\n"
     ]
    }
   ],
   "source": [
    "from abc import ABC, abstractmethod\n",
    "\n",
    "class Animal(ABC):\n",
    "    @abstractmethod\n",
    "    def speak(self):\n",
    "        pass\n",
    "    \n",
    "class Dog(Animal):\n",
    "    def speak(self):\n",
    "        return \"Woof!\"\n",
    "    \n",
    "class Cat(Animal):\n",
    "    def speak(self):\n",
    "        return \"Meow!\"\n",
    "    \n",
    "\n",
    "animals = [Dog(), Cat()]\n",
    "\n",
    "for animal in animals:\n",
    "    print(animal.speak())"
   ]
  },
  {
   "cell_type": "markdown",
   "id": "995ebc17-d771-4d9b-a497-a428b4bc4604",
   "metadata": {},
   "source": [
    "## Q4. How can we achieve data abstraction?"
   ]
  },
  {
   "cell_type": "markdown",
   "id": "3bb6b07b-ce9e-4b5e-95fb-77a5ba48864e",
   "metadata": {},
   "source": [
    "*** Here are some ways to achieve data abstraction in Python:\n",
    "\n",
    "Define abstract classes: In Python, abstract classes can be defined using the abc module. By defining an abstract class, you can ensure that all derived classes implement the required methods.\n",
    "\n",
    "Use interfaces: Python does not have a built-in interface mechanism, but you can achieve similar functionality using abstract base classes.\n",
    "\n",
    "Use access modifiers: In Python, you can use access modifiers such as underscores to limit the visibility of certain data members or methods. For example, you can use a single underscore to indicate that a method or data member is intended to be private and should not be accessed from outside the class."
   ]
  },
  {
   "cell_type": "markdown",
   "id": "efa1f8f2-0ab7-4153-9a9f-38f4b2ae4d31",
   "metadata": {},
   "source": [
    "## Q5. Can we create an instance of an abstract class? Explain your answer."
   ]
  },
  {
   "cell_type": "markdown",
   "id": "386fb5b8-0308-4159-ad43-8a84ba2457d8",
   "metadata": {},
   "source": [
    " No, we cannot create an instance of an abstract class in Python or any other object-oriented programming language. An abstract class is a class that contains one or more abstract methods, which do not have an implementation in the base class. Instead, the implementation is provided by the derived classes that inherit from the abstract base class.\n",
    "\n",
    "Since abstract classes are incomplete and do not have a complete implementation of all the required methods, they cannot be instantiated. Attempting to create an instance of an abstract class in Python will result in a TypeError"
   ]
  },
  {
   "cell_type": "code",
   "execution_count": 13,
   "id": "1872c73a-45e0-4b13-bdf4-79b3bb5bc12a",
   "metadata": {},
   "outputs": [
    {
     "ename": "TypeError",
     "evalue": "Can't instantiate abstract class Animal with abstract method speak",
     "output_type": "error",
     "traceback": [
      "\u001b[0;31m---------------------------------------------------------------------------\u001b[0m",
      "\u001b[0;31mTypeError\u001b[0m                                 Traceback (most recent call last)",
      "Cell \u001b[0;32mIn[13], line 8\u001b[0m\n\u001b[1;32m      4\u001b[0m     \u001b[38;5;129m@abstractmethod\u001b[39m\n\u001b[1;32m      5\u001b[0m     \u001b[38;5;28;01mdef\u001b[39;00m \u001b[38;5;21mspeak\u001b[39m(\u001b[38;5;28mself\u001b[39m):\n\u001b[1;32m      6\u001b[0m         \u001b[38;5;28;01mpass\u001b[39;00m\n\u001b[0;32m----> 8\u001b[0m animal \u001b[38;5;241m=\u001b[39m \u001b[43mAnimal\u001b[49m\u001b[43m(\u001b[49m\u001b[43m)\u001b[49m  \u001b[38;5;66;03m# This will result in a TypeError\u001b[39;00m\n",
      "\u001b[0;31mTypeError\u001b[0m: Can't instantiate abstract class Animal with abstract method speak"
     ]
    }
   ],
   "source": [
    "from abc import ABC, abstractmethod\n",
    "\n",
    "class Animal(ABC):\n",
    "    @abstractmethod\n",
    "    def speak(self):\n",
    "        pass\n",
    "    \n",
    "animal = Animal()  # This will result in a TypeError"
   ]
  }
 ],
 "metadata": {
  "kernelspec": {
   "display_name": "Python 3 (ipykernel)",
   "language": "python",
   "name": "python3"
  },
  "language_info": {
   "codemirror_mode": {
    "name": "ipython",
    "version": 3
   },
   "file_extension": ".py",
   "mimetype": "text/x-python",
   "name": "python",
   "nbconvert_exporter": "python",
   "pygments_lexer": "ipython3",
   "version": "3.10.8"
  }
 },
 "nbformat": 4,
 "nbformat_minor": 5
}
