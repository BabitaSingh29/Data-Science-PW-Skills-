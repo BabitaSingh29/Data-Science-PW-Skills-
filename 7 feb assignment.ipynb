{
 "cells": [
  {
   "cell_type": "markdown",
   "id": "9cbd609f-c0c8-4509-8375-138a5597e5ef",
   "metadata": {},
   "source": [
    "## Q1. You are writing code for a company. The requirement of the company is that you create a python function that will check whether the password entered by the user is correct or not. The function should take the password as input and return the string “Valid Password” if the entered password follows the below-given password guidelines else it should return “Invalid Password”.\n",
    "Note: 1. The Password should contain at least two uppercase letters and at least two lowercase letters.\n",
    "     2. The Password should contain at least a number and three special characters.\n",
    "     3. The length of the password should be 10 characters long."
   ]
  },
  {
   "cell_type": "code",
   "execution_count": null,
   "id": "4dfe7c87-bfd5-449a-a2b8-32fefe8535d4",
   "metadata": {},
   "outputs": [
    {
     "name": "stdin",
     "output_type": "stream",
     "text": [
      "Enter a password:  $$$$BAbita\n"
     ]
    },
    {
     "name": "stdout",
     "output_type": "stream",
     "text": [
      "Invalid Password\n"
     ]
    },
    {
     "name": "stdin",
     "output_type": "stream",
     "text": [
      "Enter a password:  &&&&&^gagdd\n"
     ]
    },
    {
     "name": "stdout",
     "output_type": "stream",
     "text": [
      "Invalid Password\n"
     ]
    }
   ],
   "source": [
    "import re #importing regular expression\n",
    "import string \n",
    "\n",
    "\n",
    "def validate_password(): \n",
    "    \n",
    "    punct=string.punctuation \n",
    "    \n",
    "    while True: # starting the while loop\n",
    "        password = input(\"Enter a password: \") \n",
    "        if len(password)<10: \n",
    "            print(\"Invalid Password\") \n",
    "            \n",
    "        elif re.search('[0-9]',password) is None: # it should contain atlest 1 digit\n",
    "            print(\"Invalid Password\")\n",
    "        \n",
    "        elif len(re.findall('[A-Z]',password)) <2: # it should contain atlest 2 capital letters\n",
    "            print(\"Invalid Password\")\n",
    "            \n",
    "        elif len(re.findall('[a-z]',password) )<2: # it should contain atleast 2 small letters\n",
    "            print(\"Invalid Password\")\n",
    "            \n",
    "        elif len([i for i in password if i in punct])<3: # should contain atleast 3 spl letter\n",
    "             print(\"Invalid Password\")\n",
    "            \n",
    "        \n",
    "        else:\n",
    "            print(\"Valid Password\") \n",
    "            break\n",
    "            \n",
    "validate_password()            "
   ]
  },
  {
   "cell_type": "markdown",
   "id": "be8b8d9b-8cb4-41f3-b02a-d5abb6751fae",
   "metadata": {},
   "source": [
    "## Q2. Solve the below-given questions using at least one of the following:\n",
    "1. Lambda function\n",
    "2. Filter functioN\n",
    "3. Map functioN\n",
    "4. List Comprehension\n",
    "\n",
    "### Check if the string starts with a particular letter.\n",
    "### Check if the string is numeric\n",
    "### Sort a list of tuples having fruit names and their quantity. [(\"mango\",99),(\"orange\",80), (\"grapes\", 1000)]\n",
    "### Find the squares of numbers from 1 to 10Y\n",
    "### Find the cube root of numbers from 1 to 10Y\n",
    "### Check if a given number is evenY\n",
    "### Filter odd numbers from the given list. [1,2,3,4,5,6,7,8,9,10]\n",
    "### Sort a list of integers into positive and negative integers lists. [1,2,3,4,5,6,-1,-2,-3,-4,-5,0]"
   ]
  },
  {
   "cell_type": "code",
   "execution_count": 9,
   "id": "36c5a348-15ad-4dea-97be-90afe6357c15",
   "metadata": {},
   "outputs": [
    {
     "data": {
      "text/plain": [
       "True"
      ]
     },
     "execution_count": 9,
     "metadata": {},
     "output_type": "execute_result"
    }
   ],
   "source": [
    "# Check if the string starts with a particular letter\n",
    "\n",
    "string= \"Pwskills\"\n",
    "\n",
    "modified_str=map(lambda x: x[0]==\"P\", string)\n",
    "next(modified_str)\n"
   ]
  },
  {
   "cell_type": "code",
   "execution_count": 10,
   "id": "5641b01e-a4e6-4440-849f-f9736a35d5a0",
   "metadata": {},
   "outputs": [
    {
     "name": "stdout",
     "output_type": "stream",
     "text": [
      "PhysicsWallah\n",
      "Pink\n"
     ]
    }
   ],
   "source": [
    "# checking with a list of string \n",
    "list1=[\"PhysicsWallah\", \"Pink\", \"Rich\", \"poor\"]\n",
    "filter_words_list=filter(lambda x: x[0]==\"P\", list1)\n",
    "for i in filter_words_list:\n",
    "    print(i)"
   ]
  },
  {
   "cell_type": "code",
   "execution_count": 12,
   "id": "2657d653-2b1a-4c06-9539-9050ccf87fa7",
   "metadata": {},
   "outputs": [
    {
     "data": {
      "text/plain": [
       "True"
      ]
     },
     "execution_count": 12,
     "metadata": {},
     "output_type": "execute_result"
    }
   ],
   "source": [
    "# Check if the string is numeric\n",
    "\n",
    "string1=\"123456789\"\n",
    "modified_str1 =map(lambda x: x.isdigit(), string1)\n",
    "next(modified_str1)"
   ]
  },
  {
   "cell_type": "code",
   "execution_count": 25,
   "id": "85fb5384-1b76-4b7a-b93e-017aa25e57d6",
   "metadata": {},
   "outputs": [
    {
     "name": "stdout",
     "output_type": "stream",
     "text": [
      "[('orange', 80), ('mango', 99), ('grapes', 1000)]\n",
      "[('grapes', 1000), ('mango', 99), ('orange', 80)]\n"
     ]
    }
   ],
   "source": [
    "#Sort a list of tuples having fruit names and their quantity. [(\"mango\",99),(\"orange\",80), (\"grapes\", 1000)]\n",
    "list1=[(\"mango\",99),(\"orange\",80), (\"grapes\", 1000)]\n",
    "\n",
    "print(sorted(list1, key=lambda x: x[1],reverse=False))\n",
    "\n",
    "\n",
    "print(sorted(list1, key=lambda x: x[1],reverse=True))"
   ]
  },
  {
   "cell_type": "code",
   "execution_count": 3,
   "id": "8fbe1be6-c94e-4116-888f-5b19a77a519e",
   "metadata": {},
   "outputs": [
    {
     "data": {
      "text/plain": [
       "[1, 4, 9, 16, 25, 36, 49, 64, 81, 100]"
      ]
     },
     "execution_count": 3,
     "metadata": {},
     "output_type": "execute_result"
    }
   ],
   "source": [
    "#Find the squares of numbers from 1 to 10\n",
    "\n",
    "list2=[1,2,3,4,5,6,7,8,9,10] \n",
    "\n",
    "sq_list=map(lambda x: x**2, list2) \n",
    "\n",
    "[i for i in sq_list]"
   ]
  },
  {
   "cell_type": "code",
   "execution_count": 4,
   "id": "18bb3640-11ed-4da1-9264-9d88b52ee653",
   "metadata": {},
   "outputs": [
    {
     "data": {
      "text/plain": [
       "[1, 8, 27, 64, 125, 216, 343, 512, 729, 1000]"
      ]
     },
     "execution_count": 4,
     "metadata": {},
     "output_type": "execute_result"
    }
   ],
   "source": [
    "# Find the cube root of numbers from 1 to 10\n",
    "list2=[1,2,3,4,5,6,7,8,9,10]\n",
    "\n",
    "cube_list=map(lambda x: x**3, list2) \n",
    "\n",
    "[i for i in cube_list] "
   ]
  },
  {
   "cell_type": "code",
   "execution_count": 6,
   "id": "85f02c1a-06e3-470d-be4e-bab95e625adb",
   "metadata": {},
   "outputs": [
    {
     "name": "stdin",
     "output_type": "stream",
     "text": [
      " 4\n"
     ]
    },
    {
     "name": "stdout",
     "output_type": "stream",
     "text": [
      "True\n"
     ]
    }
   ],
   "source": [
    "# Check if a given number is even\n",
    "n=int(input())\n",
    "\n",
    "is_even=True if n%2==0 else False\n",
    "print(is_even)"
   ]
  },
  {
   "cell_type": "code",
   "execution_count": 8,
   "id": "1b6d7551-af42-4c9f-8f42-1ecac764aeff",
   "metadata": {},
   "outputs": [
    {
     "name": "stdout",
     "output_type": "stream",
     "text": [
      "[1, 3, 5, 7, 9]\n"
     ]
    }
   ],
   "source": [
    "#B Filter odd numbers from the given list. [1,2,3,4,5,6,7,8,9,10]\n",
    "\n",
    "\n",
    "numbers=[1,2,3,4,5,6,7,8,9,10]\n",
    "\n",
    "odd_no=[i for i in filter(lambda x: x%2 !=0, numbers)]\n",
    "print(odd_no)\n"
   ]
  },
  {
   "cell_type": "code",
   "execution_count": 13,
   "id": "bcc39eb6-2cc2-4b45-8b9f-a8af8d6da6fb",
   "metadata": {},
   "outputs": [
    {
     "name": "stdout",
     "output_type": "stream",
     "text": [
      "[0, 1, 2, 3, 4, 5, 6]\n",
      "[-5, -4, -3, -2, -1]\n"
     ]
    }
   ],
   "source": [
    "#B Sort a list of integers into positive and negative integers lists.[1,2,3,4,5,6,-1,-2,-3,-4,-5,0]\n",
    "\n",
    "\n",
    "\n",
    "\n",
    "list_i=[1,2,3,4,5,6,-1,-2,-3,-4,-5,0]\n",
    "pos_num=sorted([i for i in filter(lambda x: x>=0, list_x)]) #filter the positive number\n",
    "neg_num=sorted([i for i in filter(lambda x: x<0, list_x)]) #filter the negative number \n",
    "print(pos_num)\n",
    "print(neg_num)\n"
   ]
  },
  {
   "cell_type": "code",
   "execution_count": null,
   "id": "5b8d6803-b1e6-4a96-be5d-2c91a851d54e",
   "metadata": {},
   "outputs": [],
   "source": []
  }
 ],
 "metadata": {
  "kernelspec": {
   "display_name": "Python 3 (ipykernel)",
   "language": "python",
   "name": "python3"
  },
  "language_info": {
   "codemirror_mode": {
    "name": "ipython",
    "version": 3
   },
   "file_extension": ".py",
   "mimetype": "text/x-python",
   "name": "python",
   "nbconvert_exporter": "python",
   "pygments_lexer": "ipython3",
   "version": "3.10.8"
  }
 },
 "nbformat": 4,
 "nbformat_minor": 5
}
