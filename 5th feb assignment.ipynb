{
 "cells": [
  {
   "cell_type": "markdown",
   "id": "8933b271-88a6-4b09-943e-d935ea6f99cd",
   "metadata": {},
   "source": [
    "## Q1. Explain Class and Object with respect to Object-Oriented Programming. Give a suitable example."
   ]
  },
  {
   "cell_type": "markdown",
   "id": "cf7dfad5-d1f5-4f78-811f-e151258c97ee",
   "metadata": {},
   "source": [
    "Ans.Class is a blueprint or template for creating objects, providing initial values for state (member variables or attributes) and implementations of behavior (member functions or methods). Object is an instance of a class. Example: Class-Car, Object-Toyota."
   ]
  },
  {
   "cell_type": "markdown",
   "id": "6e9b87cc-1876-4a18-908a-0f002a53d06b",
   "metadata": {},
   "source": [
    "## Q2. Name the four pillars of OOPs."
   ]
  },
  {
   "cell_type": "markdown",
   "id": "ed1f1d44-28b9-4010-8e9a-bc36d5a709fd",
   "metadata": {},
   "source": [
    "Ans.These are:\n",
    "1.Abstraction\n",
    "2.Encapsulation\n",
    "3.Inheritance\n",
    "4.Polymorphism"
   ]
  },
  {
   "cell_type": "markdown",
   "id": "f527e867-8987-4b86-864c-c5be84266c82",
   "metadata": {},
   "source": [
    "## Q3. Explain why the __init__() function is used. Give a suitable example."
   ]
  },
  {
   "cell_type": "markdown",
   "id": "a51d6ca1-0d47-4f98-b735-8656e65b6900",
   "metadata": {},
   "source": [
    "Ans. The __init__ function, also known as the constructor, is used to initialize an object's state when it is created. This function is called automatically when an object is created from a class and it allows the programmer to set default values for the object's attributes or parameters."
   ]
  },
  {
   "cell_type": "code",
   "execution_count": 2,
   "id": "9ef96616-c843-40e8-a65c-2e8c30ef5024",
   "metadata": {},
   "outputs": [],
   "source": [
    "class Person:\n",
    "    def __init__(self, name, age):\n",
    "        self.name = name\n",
    "        self.age = age\n",
    "\n",
    "person = Person(\"John Doe\", 30)"
   ]
  },
  {
   "cell_type": "markdown",
   "id": "45987c25-52a7-4256-96b1-7cde3b665083",
   "metadata": {},
   "source": [
    "In this example, when a new Person object is created, the __init__ function is called with the arguments \"John Doe\" and 30, which sets the name and age attributes for the person object."
   ]
  },
  {
   "cell_type": "markdown",
   "id": "9f01bee3-3eab-4999-be0a-2c9c0310d994",
   "metadata": {},
   "source": [
    "## Q4. Why self is used in OOPs?"
   ]
  },
  {
   "cell_type": "markdown",
   "id": "c4c6d8d5-c73c-4e2b-891c-98bc99add7d1",
   "metadata": {},
   "source": [
    "In object-oriented programming (OOP), self is a special parameter that refers to the instance of the object that a method is called on. It is used to access the attributes and methods of the object within the method. In other words, self allows an object to refer to itself."
   ]
  },
  {
   "cell_type": "markdown",
   "id": "e31a05b5-b3e6-4478-9a7c-da5021c56fa0",
   "metadata": {},
   "source": [
    "class Person:\n",
    "    def __init__(self, name, age):\n",
    "        self.name = name\n",
    "        self.age = age\n",
    "    \n",
    "    def display_info(self):\n",
    "        print(\"Name:\", self.name)\n",
    "        print(\"Age:\", self.age)\n",
    "\n",
    "person = Person(\"John Doe\", 30)\n",
    "person.display_info()"
   ]
  },
  {
   "cell_type": "markdown",
   "id": "c9d0c982-fc57-4a2c-8efa-5154864f839e",
   "metadata": {},
   "source": [
    "In this code, the display_info method takes self as its first parameter. When the method is called on the person object, self refers to that object, allowing us to access its name and age attributes.\n",
    "\n",
    "Without self, we would not be able to access the attributes and methods of the object within its methods."
   ]
  },
  {
   "cell_type": "markdown",
   "id": "f06d541e-c71e-4260-b7a2-eb88ce1f0480",
   "metadata": {},
   "source": [
    "## Q5. What is inheritance? Give an example for each type of inheritance."
   ]
  },
  {
   "cell_type": "markdown",
   "id": "5dc7440f-f7c7-4b14-8cda-84aa9e961def",
   "metadata": {},
   "source": [
    "Inheritance is a mechanism in object-oriented programming (OOP) where a new class can be derived from an existing class. The new class inherits the properties and behaviors of the existing class, which can then be modified or extended to create a specialized version of the original class.\n",
    "\n",
    "There are several types of inheritance, including:\n",
    "\n",
    "**Single inheritance: Single inheritance occurs when a class is derived from a single base class. For example, a Student class could inherit from a Person class, where the Person class contains common properties such as name and age, and the Student class adds specialized properties such as student ID and major.\n",
    "\n",
    "**Multi-level inheritance: Multi-level inheritance occurs when a class is derived from a class that itself is derived from another class. For example, a GraduateStudent class could inherit from a Student class, which in turn inherits from a Person class.\n",
    "\n",
    "**Multiple inheritance: Multiple inheritance occurs when a class is derived from more than one base class. For example, a Musician class could inherit from both a Person class and a MusicalInstrument class, where the Person class contains properties such as name and age and the MusicalInstrument class contains properties such as type of instrument and skill level.\n",
    "\n",
    "**Hierarchical inheritance: Hierarchical inheritance occurs when multiple classes inherit from a single base class. For example, a Teacher class, a Student class, and a Staff class could all inherit from a common Person class.\n",
    "\n",
    "**Hybrid inheritance: Hybrid inheritance is a combination of two or more types of inheritance. For example, a class could inherit properties from multiple base classes using multiple inheritance and then pass those properties down to derived classes using single inheritance.\n",
    "\n",
    "\n",
    "\n",
    "\n"
   ]
  }
 ],
 "metadata": {
  "kernelspec": {
   "display_name": "Python 3 (ipykernel)",
   "language": "python",
   "name": "python3"
  },
  "language_info": {
   "codemirror_mode": {
    "name": "ipython",
    "version": 3
   },
   "file_extension": ".py",
   "mimetype": "text/x-python",
   "name": "python",
   "nbconvert_exporter": "python",
   "pygments_lexer": "ipython3",
   "version": "3.10.8"
  }
 },
 "nbformat": 4,
 "nbformat_minor": 5
}
