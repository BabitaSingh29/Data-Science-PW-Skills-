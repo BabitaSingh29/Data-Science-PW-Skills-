{
 "cells": [
  {
   "cell_type": "code",
   "execution_count": null,
   "id": "cf3aec8f-3a76-480a-8a62-95eb7e361535",
   "metadata": {},
   "outputs": [],
   "source": [
    "                                       #Assignment 2"
   ]
  },
  {
   "cell_type": "code",
   "execution_count": null,
   "id": "42b7d306-3660-4b04-a951-efebcb7c196c",
   "metadata": {},
   "outputs": [],
   "source": [
    "\n",
    "#Q1. Program to accept percentage from the user and display the grade.\n",
    "marks=int(input())\n",
    "\n",
    "if marks>90:\n",
    "    print('A')\n",
    "    \n",
    "elif marks>80 and marks<=90:\n",
    "    print('B')\n",
    "    \n",
    "elif marks>=60 and marks<=80:\n",
    "    print('C')\n",
    "    \n",
    "else:\n",
    "    print('D')\n"
   ]
  },
  {
   "cell_type": "code",
   "execution_count": 5,
   "id": "91e6e99d-1461-4cd2-b836-487ecc21adf1",
   "metadata": {},
   "outputs": [
    {
     "name": "stdin",
     "output_type": "stream",
     "text": [
      " 100000\n"
     ]
    },
    {
     "name": "stdout",
     "output_type": "stream",
     "text": [
      "10%\n"
     ]
    }
   ],
   "source": [
    "#Program to accept the cost price of a boke and display the road tax to be paid.\n",
    "cost=int(input())\n",
    "\n",
    "if cost>100000:\n",
    "    print('15%')\n",
    "    \n",
    "elif(cost>50000 and cost<=100000):\n",
    "    print('10%')\n",
    "    \n",
    "else:\n",
    "    print('5%')\n",
    "    "
   ]
  },
  {
   "cell_type": "code",
   "execution_count": 7,
   "id": "f0eeb2cc-afc8-4193-a4a7-7a39144cbedf",
   "metadata": {},
   "outputs": [
    {
     "name": "stdin",
     "output_type": "stream",
     "text": [
      " Delhi\n"
     ]
    },
    {
     "name": "stdout",
     "output_type": "stream",
     "text": [
      "Red Fort\n"
     ]
    }
   ],
   "source": [
    "#Accept any city from the user and display monuments of the city.\n",
    "\n",
    "city=input()\n",
    "\n",
    "if city=='Delhi':\n",
    "    print('Red Fort')\n",
    "    \n",
    "elif(city=='Agra'):\n",
    "    print('Taj Mahal')\n",
    "    \n",
    "elif(city=='Jaipur'):\n",
    "    print('Jai Mahal')\n"
   ]
  },
  {
   "cell_type": "code",
   "execution_count": 13,
   "id": "52076773-500f-45db-be27-5c801d4eb0c8",
   "metadata": {},
   "outputs": [
    {
     "name": "stdin",
     "output_type": "stream",
     "text": [
      "Enter a number:  5\n"
     ]
    },
    {
     "name": "stdout",
     "output_type": "stream",
     "text": [
      "The number of times 5 can be divided by 3 before it is less than or equal to 10 is 0\n"
     ]
    }
   ],
   "source": [
    "#Check how many times a given number can be divided by 3 before it is less than or equal to 10.\n",
    "n = int(input(\"Enter a number: \"))\n",
    "count = 0\n",
    "while n > 10:\n",
    "    n = n / 3\n",
    "    count += 1\n",
    "print(\"The number of times\", n, \"can be divided by 3 before it is less than or equal to 10 is\", count)\n",
    "     "
   ]
  },
  {
   "cell_type": "code",
   "execution_count": 14,
   "id": "fe29be33-79a0-458b-8d1a-23f13bf67358",
   "metadata": {},
   "outputs": [
    {
     "name": "stdout",
     "output_type": "stream",
     "text": [
      "1\n",
      "2\n",
      "3\n",
      "4\n",
      "5\n",
      "6\n",
      "7\n",
      "8\n",
      "9\n",
      "10\n"
     ]
    }
   ],
   "source": [
    "#Why and when to use while loop in Python.Give a detailed description with example.\n",
    "#A while loop in Python is used to repeatedly execute a block of code as long as a certain condition is met.\n",
    "i = 1\n",
    "while i <= 10:\n",
    "    print(i)\n",
    "    i += 1"
   ]
  },
  {
   "cell_type": "code",
   "execution_count": 1,
   "id": "334d10a7-109e-4eee-8e7c-0b4272134bc3",
   "metadata": {},
   "outputs": [
    {
     "name": "stdin",
     "output_type": "stream",
     "text": [
      " 4\n"
     ]
    },
    {
     "name": "stdout",
     "output_type": "stream",
     "text": [
      "1\n",
      "22\n",
      "333\n",
      "4444\n"
     ]
    }
   ],
   "source": [
    "#Use nested while loop to print 3 different pattern.\n",
    "#Triangular Number Pattern\n",
    "n=int(input())\n",
    "i=1\n",
    "while i<=n:\n",
    "    j=1\n",
    "    while j<=i:\n",
    "        print(i,end=\"\")\n",
    "        j=j+1\n",
    "    print()\n",
    "    i=i+1"
   ]
  },
  {
   "cell_type": "code",
   "execution_count": 2,
   "id": "91ed6203-beab-4361-bad5-fcd3ddb1885b",
   "metadata": {},
   "outputs": [
    {
     "name": "stdin",
     "output_type": "stream",
     "text": [
      " 4\n"
     ]
    },
    {
     "name": "stdout",
     "output_type": "stream",
     "text": [
      "1\n",
      "21\n",
      "321\n",
      "4321\n"
     ]
    }
   ],
   "source": [
    "#Reverse number Pattern\n",
    "n=int(input())\n",
    "i=1\n",
    "while i<=n:\n",
    "    j=1\n",
    "    p=i\n",
    "    while j<=i:\n",
    "        print(p,end=\"\")\n",
    "        j=j+1\n",
    "        p=p-1\n",
    "    print()\n",
    "    i=i+1"
   ]
  },
  {
   "cell_type": "code",
   "execution_count": 3,
   "id": "8c662c16-5351-4345-92de-d44003dfa5a1",
   "metadata": {},
   "outputs": [
    {
     "name": "stdin",
     "output_type": "stream",
     "text": [
      " 4\n"
     ]
    },
    {
     "name": "stdout",
     "output_type": "stream",
     "text": [
      "4444\n",
      "333\n",
      "22\n",
      "1\n"
     ]
    }
   ],
   "source": [
    "#Inverted Number Pattern\n",
    "n=int(input())\n",
    "i=1\n",
    "while i<=n:\n",
    "    j=1\n",
    "    while j<=n-i+1:\n",
    "        print(n-i+1,end=\"\")\n",
    "        j=j+1\n",
    "    print()\n",
    "    i=i+1\n"
   ]
  },
  {
   "cell_type": "code",
   "execution_count": 4,
   "id": "387fcdcb-f593-4e53-b528-32569c831f3e",
   "metadata": {},
   "outputs": [
    {
     "name": "stdout",
     "output_type": "stream",
     "text": [
      "10\n",
      "9\n",
      "8\n",
      "7\n",
      "6\n",
      "5\n",
      "4\n",
      "3\n",
      "2\n",
      "1\n"
     ]
    }
   ],
   "source": [
    "#Reverse a while loop to display numbers from 10 to 1 .\n",
    "i = 10\n",
    "while i >= 1:\n",
    "    print(i)\n",
    "    i -= 1"
   ]
  },
  {
   "cell_type": "code",
   "execution_count": 5,
   "id": "277a717a-8167-4cb0-bfcf-35e36d911630",
   "metadata": {},
   "outputs": [
    {
     "name": "stdout",
     "output_type": "stream",
     "text": [
      "10\n",
      "9\n",
      "8\n",
      "7\n",
      "6\n",
      "5\n",
      "4\n",
      "3\n",
      "2\n",
      "1\n"
     ]
    }
   ],
   "source": [
    "#Reverse a while loop to display numbers from 10 to 1.\n",
    "i = 1\n",
    "while i <= 10:\n",
    "    print(10 - i + 1)\n",
    "    i += 1"
   ]
  },
  {
   "cell_type": "code",
   "execution_count": null,
   "id": "f910f049-3d12-4b7d-a84c-d2dc04e869a3",
   "metadata": {},
   "outputs": [],
   "source": []
  }
 ],
 "metadata": {
  "kernelspec": {
   "display_name": "Python 3 (ipykernel)",
   "language": "python",
   "name": "python3"
  },
  "language_info": {
   "codemirror_mode": {
    "name": "ipython",
    "version": 3
   },
   "file_extension": ".py",
   "mimetype": "text/x-python",
   "name": "python",
   "nbconvert_exporter": "python",
   "pygments_lexer": "ipython3",
   "version": "3.10.8"
  }
 },
 "nbformat": 4,
 "nbformat_minor": 5
}
