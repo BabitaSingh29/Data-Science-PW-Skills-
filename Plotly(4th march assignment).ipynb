{
 "cells": [
  {
   "cell_type": "markdown",
   "id": "9dfe5dc8-1f9d-4557-8eea-302b3a6abf28",
   "metadata": {},
   "source": [
    "## Q1. Load the \"titanic\" dataset using the load_dataset function of seaborn. Use Plotly express to plot a scatter plot for age and fare columns in the titanic dataset."
   ]
  },
  {
   "cell_type": "code",
   "execution_count": null,
   "id": "0155db61-81d5-4fe0-b467-c04be3bf6d3f",
   "metadata": {},
   "outputs": [],
   "source": [
    "import seaborn as sns\n",
    "import plotly.express as px\n",
    "\n",
    "titanic_df = sns.load_dataset('titanic')\n",
    "\n",
    "fig = px.scatter(titanic_df, x='age', y='fare')\n",
    "\n",
    "fig.show()"
   ]
  },
  {
   "cell_type": "markdown",
   "id": "289a8bc5-b99a-4986-9927-b4e52b91cbdc",
   "metadata": {},
   "source": [
    "## Q2. Using the tips dataset in the Plotly library, plot a box plot using Plotly express."
   ]
  },
  {
   "cell_type": "code",
   "execution_count": null,
   "id": "d200f9f4-e26d-4540-9b27-e2409653f8c2",
   "metadata": {},
   "outputs": [],
   "source": [
    "import plotly.express as px\n",
    "\n",
    "tips_df = px.data.tips()\n",
    "\n",
    "fig = px.box(tips_df, x='day', y='total_bill')\n",
    "\n",
    "fig.show()"
   ]
  },
  {
   "cell_type": "markdown",
   "id": "9ad0ac51-4483-40e6-b8dc-0abe6f10a6d8",
   "metadata": {},
   "source": [
    "## Q3. Using the tips dataset in the Plotly library, Plot a histogram for x= \"sex\" and y=\"total_bill\" column in the tips dataset. Also, use the \"smoker\" column with the pattern_shape parameter and the \"day\" column with the color parameter."
   ]
  },
  {
   "cell_type": "code",
   "execution_count": null,
   "id": "224ae9e8-6f9c-466f-afc3-9cec3f3187f3",
   "metadata": {},
   "outputs": [],
   "source": [
    "import plotly.express as px\n",
    "\n",
    "tips_df = px.data.tips()\n",
    "\n",
    "fig = px.histogram(tips_df, x='sex', y='total_bill', color='day', pattern_shape='smoker')\n",
    "\n",
    "fig.show()"
   ]
  },
  {
   "cell_type": "markdown",
   "id": "aaddcbb4-9b86-4a0b-8a3c-5ccec1823587",
   "metadata": {},
   "source": [
    "## Q4. Using the iris dataset in the Plotly library, Plot a scatter matrix plot, using the \"species\" column for the color parameter.\n",
    "### Note: Use \"sepal_length\", \"sepal_width\", \"petal_length\", \"petal_width\" columns only with the dimensions parameter."
   ]
  },
  {
   "cell_type": "code",
   "execution_count": null,
   "id": "c46d2554-1810-4da3-9be2-4f623c13556c",
   "metadata": {},
   "outputs": [],
   "source": [
    "import plotly.express as px\n",
    "\n",
    "iris_df = px.data.iris()\n",
    "\n",
    "fig = px.scatter_matrix(iris_df, dimensions=['sepal_length', 'sepal_width', 'petal_length', 'petal_width'], color='species')\n",
    "\n",
    "fig.show()\n"
   ]
  },
  {
   "cell_type": "markdown",
   "id": "8ed76742-5abd-46fe-abb6-92f9983ef939",
   "metadata": {},
   "source": [
    "## Q5. What is Distplot? Using Plotly express, plot a distplot."
   ]
  },
  {
   "cell_type": "markdown",
   "id": "0bc949aa-e598-4bed-94c3-137d52a4271b",
   "metadata": {},
   "source": [
    "Distplot is a function in the Seaborn library that can be used to visualize the distribution of a single variable. It combines a histogram and a kernel density estimate plot to show the shape of the distribution and the density estimate of the data. The distplot function is now deprecated and has been replaced by the displot function in Seaborn."
   ]
  },
  {
   "cell_type": "code",
   "execution_count": null,
   "id": "963f0530-9230-4da4-8a32-9d2a80d1d8e8",
   "metadata": {},
   "outputs": [],
   "source": [
    "import plotly.express as px\n",
    "import seaborn as sns\n",
    "\n",
    "tips = sns.load_dataset(\"tips\")\n",
    "\n",
    "fig = px.histogram(tips, x=\"total_bill\", nbins=20, marginal=\"box\")\n",
    "\n",
    "fig.show()"
   ]
  },
  {
   "cell_type": "markdown",
   "id": "a506327a-46cc-4d12-8b5d-938187d6d015",
   "metadata": {},
   "source": [
    "In this example, we are using the histogram function of Plotly Express to create a distplot for the \"total_bill\" column in the \"tips\" dataset. We set the number of bins to 20 using the nbins parameter, and we add a box plot to show the quartiles of the data using the marginal parameter set to \"box\". The resulting figure shows the distribution of the \"total_bill\" column with a histogram and a box plot."
   ]
  }
 ],
 "metadata": {
  "kernelspec": {
   "display_name": "Python 3 (ipykernel)",
   "language": "python",
   "name": "python3"
  },
  "language_info": {
   "codemirror_mode": {
    "name": "ipython",
    "version": 3
   },
   "file_extension": ".py",
   "mimetype": "text/x-python",
   "name": "python",
   "nbconvert_exporter": "python",
   "pygments_lexer": "ipython3",
   "version": "3.10.8"
  }
 },
 "nbformat": 4,
 "nbformat_minor": 5
}
