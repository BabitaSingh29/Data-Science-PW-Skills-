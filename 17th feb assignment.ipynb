{
 "cells": [
  {
   "cell_type": "markdown",
   "id": "5591be0a-36ba-4d43-b596-e07208bc32e1",
   "metadata": {},
   "source": [
    "## Q1. What is MongoDB? Explain non-relational databases in short. In which scenarios it is preferred to use MongoDB over SQL databases?"
   ]
  },
  {
   "cell_type": "markdown",
   "id": "fd611e5b-81b7-41a8-bb8c-1175db6f3bd0",
   "metadata": {},
   "source": [
    "MongoDB is a document-oriented NoSQL database system that stores data in JSON-like documents with dynamic schema. It is designed to be flexible, scalable, and easy to use for developers. MongoDB has become popular due to its ability to handle unstructured and semi-structured data and its horizontal scalability.\n",
    "\n",
    "Non-relational databases, also known as NoSQL databases, are a type of database that does not use the traditional relational model to store data. Instead, NoSQL databases store data in a variety of ways, such as key-value stores, document stores, column-family stores, and graph databases. These databases are designed to handle large amounts of unstructured or semi-structured data and to be highly scalable.\n",
    "\n",
    "MongoDB is often preferred over SQL databases in scenarios where there is a need for high performance, scalability, and flexibility. This includes applications that require frequent updates or have complex data structures that do not fit well into a traditional relational database schema. MongoDB is also ideal for applications that require real-time data analysis, as it supports advanced features like sharding and replication, which allow for distributed processing and high availability. "
   ]
  },
  {
   "cell_type": "markdown",
   "id": "92092625-1386-4487-abe2-429085031b1b",
   "metadata": {},
   "source": [
    "## Q2. State and Explain the features of MongoDB."
   ]
  },
  {
   "cell_type": "markdown",
   "id": "388978a0-47b1-4583-bfa9-565c5244f067",
   "metadata": {},
   "source": [
    "1. Document-oriented: MongoDB stores data in flexible, JSON-like documents, making it easy to handle unstructured data. This means that each document can have its own unique structure, unlike traditional relational databases where all data must fit into a pre-defined schema.\n",
    "\n",
    "2. High Availability and Scalability: MongoDB offers high availability and scalability through replica sets and sharding, allowing users to easily distribute data across multiple servers and handle large volumes of data.\n",
    "\n",
    "3. Dynamic schema: MongoDB allows for flexible schema design, making it easy to handle evolving data structures. This means that you can add or remove fields from documents without affecting the overall structure of the database.\n",
    "\n",
    "4. Indexing: MongoDB supports a wide range of indexing options, including geospatial and text search indexes, making it easy to search and retrieve data quickly.\n",
    "\n",
    "5. Aggregation framework: MongoDB includes a powerful aggregation framework that allows for complex data aggregation and manipulation operations, such as grouping, filtering, and sorting.\n",
    "\n",
    "6. Native support for multiple programming languages: MongoDB supports multiple programming languages, including Java, Python, and Node.js, making it easy to integrate with existing applications."
   ]
  },
  {
   "cell_type": "markdown",
   "id": "401dd0a9-68ff-4a15-830a-97273aa30b38",
   "metadata": {},
   "source": [
    "## Q3. Write a code to connect MongoDB to Python. Also, create a database and a collection in MongoDB."
   ]
  },
  {
   "cell_type": "markdown",
   "id": "9f36e9fb-6326-4c4f-9e85-a24f193fefeb",
   "metadata": {},
   "source": [
    "To connect MongoDB to Python, we need to use a MongoDB driver. In this example, we will be using the PyMongo driver, which is a Python library for working with MongoDB.\n",
    "\n",
    "To install PyMongo, you can use the following command:\n",
    "# pip install pymongo\n",
    "Once you have installed PyMongo, you can use the following code to connect to MongoDB and create a database and a collection:\n",
    "import pymongo\n",
    "\n",
    "# Connect to MongoDB\n",
    "client = pymongo.MongoClient(\"mongodb://localhost:27017/\")\n",
    "\n",
    "# Create a database called \"mydatabase\"\n",
    "db = client[\"mydatabase\"]\n",
    "\n",
    "# Create a collection called \"customers\"\n",
    "col = db[\"customers\"]\n",
    "\n",
    "# Insert a document into the \"customers\" collection\n",
    "doc = {\"name\": \"John\", \"address\": \"Highway 37\"}\n",
    "x = col.insert_one(doc)\n",
    "\n",
    "# Print the ID of the inserted document\n",
    "print(x.inserted_id)"
   ]
  },
  {
   "cell_type": "markdown",
   "id": "b019bebf-ad1b-4ad1-8a01-689fa340b8e4",
   "metadata": {},
   "source": [
    "## Q4. Using the database and the collection created in question number 3, write a code to insert one record, and insert many records. Use the find() and find_one() methods to print the inserted record."
   ]
  },
  {
   "cell_type": "markdown",
   "id": "086d75ae-1f23-4200-b82f-072ae85f9a14",
   "metadata": {},
   "source": [
    "import pymongo\n",
    "\n",
    "# Connect to MongoDB\n",
    "client = pymongo.MongoClient(\"mongodb://localhost:27017/\")\n",
    "db = client[\"mydatabase\"]\n",
    "col = db[\"customers\"]\n",
    "\n",
    "# Insert one record\n",
    "record = {\"name\": \"Alice\", \"address\": \"123 Main St\"}\n",
    "result = col.insert_one(record)\n",
    "print(\"Inserted record ID:\", result.inserted_id)\n",
    "\n",
    "# Insert many records\n",
    "records = [\n",
    "    {\"name\": \"Bob\", \"address\": \"456 Elm St\"},\n",
    "    {\"name\": \"Charlie\", \"address\": \"789 Oak St\"}\n",
    "]\n",
    "result = col.insert_many(records)\n",
    "print(\"Inserted record IDs:\", result.inserted_ids)\n",
    "\n",
    "# Print inserted record using find_one() method\n",
    "record = col.find_one({\"name\": \"Alice\"})\n",
    "print(\"Inserted record:\", record)\n",
    "\n",
    "# Print inserted records using find() method\n",
    "records = col.find({\"address\": {\"$regex\": \"^123\"}})\n",
    "print(\"Inserted records:\")\n",
    "for record in records:\n",
    "    print(record)"
   ]
  },
  {
   "cell_type": "markdown",
   "id": "1fac6baf-5a13-4448-9cd0-dd03af7d3064",
   "metadata": {},
   "source": [
    "## Q5. Explain how you can use the find() method to query the MongoDB database. Write a simple code to demonstrate this."
   ]
  },
  {
   "cell_type": "markdown",
   "id": "392ed992-e05f-40d1-84f7-36d9fa0b20a7",
   "metadata": {},
   "source": [
    "The find() method is used to query the MongoDB database for documents that match a specified set of criteria. It takes a query object as a parameter, which is a dictionary that specifies the search criteria.\n",
    "\n",
    "The query object can include one or more key-value pairs, where the keys represent the fields to be matched and the values represent the values to be searched for. For example, the following query object would match all documents where the name field equals \"John\":\n",
    "**query = {\"name\": \"John\"}"
   ]
  },
  {
   "cell_type": "code",
   "execution_count": null,
   "id": "ad831772-bfd9-476a-9f21-f88f0add3489",
   "metadata": {},
   "outputs": [],
   "source": [
    "import pymongo\n",
    "\n",
    "# Connect to MongoDB\n",
    "client = pymongo.MongoClient(\"mongodb://localhost:27017/\")\n",
    "db = client[\"mydatabase\"]\n",
    "col = db[\"customers\"]\n",
    "\n",
    "# Insert some data\n",
    "data = [\n",
    "    {\"name\": \"John\", \"address\": \"123 Main St\"},\n",
    "    {\"name\": \"Bob\", \"address\": \"456 Elm St\"},\n",
    "    {\"name\": \"Charlie\", \"address\": \"789 Oak St\"}\n",
    "]\n",
    "col.insert_many(data)\n",
    "\n",
    "# Query the database\n",
    "query = {\"address\": {\"$regex\": \"^12\"}}\n",
    "results = col.find(query)\n",
    "\n",
    "# Print the results\n",
    "for result in results:\n",
    "    print(result)"
   ]
  },
  {
   "cell_type": "markdown",
   "id": "2df4f839-27ea-491a-ab62-e0b2c75c2019",
   "metadata": {},
   "source": [
    "## Q6. Explain the sort() method. Give an example to demonstrate sorting in MongoDB."
   ]
  },
  {
   "cell_type": "markdown",
   "id": "67eada05-efad-47d8-92fa-d3e305ce6b2d",
   "metadata": {},
   "source": [
    "The sort() method is used to sort the documents in a MongoDB collection based on one or more fields. It takes a sort specification as a parameter, which is a dictionary that specifies the fields to sort on and the order in which to sort them.\n",
    "\n",
    "The sort specification is a dictionary where the keys represent the fields to sort on, and the values represent the sort order. The value of 1 indicates ascending order, while -1 indicates descending order. "
   ]
  },
  {
   "cell_type": "code",
   "execution_count": null,
   "id": "30d36829-e20b-4ae4-819c-bea5f4a0dde3",
   "metadata": {},
   "outputs": [],
   "source": [
    "import pymongo\n",
    "\n",
    "# Connect to MongoDB\n",
    "client = pymongo.MongoClient(\"mongodb://localhost:27017/\")\n",
    "db = client[\"mydatabase\"]\n",
    "col = db[\"customers\"]\n",
    "\n",
    "# Insert some data\n",
    "data = [\n",
    "    {\"name\": \"John\", \"age\": 25},\n",
    "    {\"name\": \"Bob\", \"age\": 30},\n",
    "    {\"name\": \"Charlie\", \"age\": 20}\n",
    "]\n",
    "col.insert_many(data)\n",
    "\n",
    "# Sort the documents by age in ascending order\n",
    "results = col.find().sort(\"age\")\n",
    "\n",
    "# Print the sorted results\n",
    "for result in results:\n",
    "    print(result)"
   ]
  },
  {
   "cell_type": "markdown",
   "id": "c6b3872c-1d16-4c44-ad6a-4168fe28bce0",
   "metadata": {},
   "source": [
    "## Q7. Explain why delete_one(), delete_many(), and drop() is used."
   ]
  },
  {
   "cell_type": "markdown",
   "id": "e66c9b5f-9797-41f9-b789-83004f33abf9",
   "metadata": {},
   "source": [
    "**delete_one(): This method removes a single document from a collection that matches the specified filter criteria. If there are multiple documents that match the filter, only the first one found is removed. The delete_one() method is useful when you want to remove a specific document from a collection.\n",
    "\n",
    "**delete_many(): This method removes all documents from a collection that match the specified filter criteria. If there are no documents that match the filter, nothing is removed. The delete_many() method is useful when you want to remove multiple documents from a collection.\n",
    "\n",
    "**drop(): This method removes an entire collection from the database. All data in the collection is permanently deleted and cannot be recovered. The drop() method is useful when you want to completely remove a collection and all its data from the database."
   ]
  }
 ],
 "metadata": {
  "kernelspec": {
   "display_name": "Python 3 (ipykernel)",
   "language": "python",
   "name": "python3"
  },
  "language_info": {
   "codemirror_mode": {
    "name": "ipython",
    "version": 3
   },
   "file_extension": ".py",
   "mimetype": "text/x-python",
   "name": "python",
   "nbconvert_exporter": "python",
   "pygments_lexer": "ipython3",
   "version": "3.10.8"
  }
 },
 "nbformat": 4,
 "nbformat_minor": 5
}
