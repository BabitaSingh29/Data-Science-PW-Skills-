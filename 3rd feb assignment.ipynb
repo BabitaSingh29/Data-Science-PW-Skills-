{
 "cells": [
  {
   "cell_type": "markdown",
   "id": "79b1f070-75c8-4b0a-b44a-198f5a9228a8",
   "metadata": {},
   "source": [
    "## Q1.Which keyword is used to create a function? Create a function to return a list of odd numbers in the range of      1 to 25.\n",
    "Ans. In Python, the keyword \"def\" is used to create a function."
   ]
  },
  {
   "cell_type": "code",
   "execution_count": 2,
   "id": "8f173950-55b8-4f6e-8965-6e0b570589ce",
   "metadata": {},
   "outputs": [
    {
     "name": "stdout",
     "output_type": "stream",
     "text": [
      "[1, 3, 5, 7, 9, 11, 13, 15, 17, 19, 21, 23, 25]\n"
     ]
    }
   ],
   "source": [
    "def odd_no(n):\n",
    "    list = []\n",
    "    for i in range(n):\n",
    "        if i % 2 != 0:\n",
    "            list.append(i)\n",
    "    return list\n",
    "\n",
    "print(odd_no(26))"
   ]
  },
  {
   "cell_type": "markdown",
   "id": "160e848b-6234-47b8-981b-c37532598319",
   "metadata": {},
   "source": [
    "## Q2. Why args and kwargs is used in some functions? Create a function each for *args and kwargs to demonstrate their use.\n"
   ]
  },
  {
   "cell_type": "markdown",
   "id": "a65201c6-d587-4d9b-be0d-78d85de750e2",
   "metadata": {},
   "source": [
    "Ans.*args\n",
    "a. When we need n number of arguments to be given by user we can use single *args\n",
    "b. In this case we will get data stored in tuple form "
   ]
  },
  {
   "cell_type": "code",
   "execution_count": 3,
   "id": "99a08dc7-6b52-46ef-88f6-081bc064f43d",
   "metadata": {},
   "outputs": [
    {
     "name": "stdout",
     "output_type": "stream",
     "text": [
      "(1, 2, 3, 4, 5, 6)\n",
      "([1, 2, 3, 4, 5, 6, 7, 8, 9],)\n"
     ]
    },
    {
     "data": {
      "text/plain": [
       "tuple"
      ]
     },
     "execution_count": 3,
     "metadata": {},
     "output_type": "execute_result"
    }
   ],
   "source": [
    "# for example,\n",
    "\n",
    "def test1(*args):\n",
    "    return args\n",
    "print(test1(1,2,3,4,5,6)) # return tuple\n",
    "print(test1(list(range(1,10)))) # return tuple of list\n",
    "type(test1()) # print the type of the data it returns"
   ]
  },
  {
   "cell_type": "markdown",
   "id": "03931afd-79cf-4946-b217-9c6cf4d57d6f",
   "metadata": {},
   "source": [
    "**kwargs\n",
    "a. When we need multiple argumnets from user to be stored in key-value pair in dict form **kwargs can be used\n",
    "b. It reurns dict type data"
   ]
  },
  {
   "cell_type": "code",
   "execution_count": 4,
   "id": "25f9b695-80cc-4335-a82f-d9869df20bfc",
   "metadata": {},
   "outputs": [
    {
     "name": "stdout",
     "output_type": "stream",
     "text": [
      "{'a': [1, 2, 3], 'b': (7, 9, 100), 'c': 'I am Learner', 'd': {1, 2}}\n"
     ]
    },
    {
     "data": {
      "text/plain": [
       "dict"
      ]
     },
     "execution_count": 4,
     "metadata": {},
     "output_type": "execute_result"
    }
   ],
   "source": [
    "# for example,\n",
    "def test3(**kwargs):\n",
    "    \n",
    "    return kwargs\n",
    "print(test3(a=[1,2,3], b=(7,9,100), c=\"I am Learner\", d= {1,2,1,2}))\n",
    "type(test3())    "
   ]
  },
  {
   "cell_type": "markdown",
   "id": "73a107f1-05a8-4414-815f-5b247ed468c3",
   "metadata": {},
   "source": [
    "## Q3. What is an iterator in python? Name the method used to initialise the iterator object and the method used for iteration. Use these methods to print the first five elements of the given list [2, 4, 6, 8, 10, 12, 14,16, 18, 20]."
   ]
  },
  {
   "cell_type": "markdown",
   "id": "9fa6aaa4-dbd7-4359-9c16-6f4215b5b6f8",
   "metadata": {},
   "source": [
    "Ans. An iterator in Python is an object that can be iterated upon, meaning you can traverse through all the values. An object which implements the iterator protocol is called an iterator. The iterator protocol consists of two methods: __iter__() and __next__().\n",
    "\n",
    "In Python, an iterator is created from an iterable object (such as a list, tuple, or string) using the iter() function. This function returns an iterator object, which implements the __iter__ and __next__ methods.\n",
    "\n",
    "The __next__() method is used for iteration. It returns the next value in the sequence. When there are no more items to return, it raises a StopIteration exception."
   ]
  },
  {
   "cell_type": "code",
   "execution_count": 5,
   "id": "6364bf72-d9ec-4e8d-a660-9929c555eec3",
   "metadata": {},
   "outputs": [
    {
     "name": "stdout",
     "output_type": "stream",
     "text": [
      "2\n",
      "4\n",
      "6\n",
      "8\n",
      "10\n"
     ]
    }
   ],
   "source": [
    "l=[2, 4, 6, 8, 10, 12, 14,16, 18, 20]\n",
    "mx = iter(l)\n",
    " \n",
    "print(next(mx))\n",
    "print(next(mx))\n",
    "print(next(mx))\n",
    "print(next(mx))\n",
    "print(next(mx))"
   ]
  },
  {
   "cell_type": "markdown",
   "id": "7c05f9e5-31e7-4040-9331-5e6cf4041d41",
   "metadata": {},
   "source": [
    "## Q4. What is a generator function in python? Why yield keyword is used? Give an example of a generator function. "
   ]
  },
  {
   "cell_type": "markdown",
   "id": "cf2d5ce3-be94-4665-843e-28b335dc0dc4",
   "metadata": {},
   "source": [
    "A generator function is a special type of function in Python that uses the yield keyword to return a generator iterator, which generates values one at a time in a memory-efficient manner. The yield keyword pauses the function's execution and resumes it when the next value is needed."
   ]
  },
  {
   "cell_type": "code",
   "execution_count": 6,
   "id": "2e1b322c-0162-4683-a62e-77197ab42ddc",
   "metadata": {},
   "outputs": [
    {
     "name": "stdout",
     "output_type": "stream",
     "text": [
      "0\n",
      "1\n",
      "1\n",
      "2\n",
      "3\n",
      "5\n",
      "8\n",
      "13\n",
      "21\n",
      "34\n"
     ]
    }
   ],
   "source": [
    "def fibonacci(n):\n",
    "    a, b = 0, 1\n",
    "    for i in range(n):\n",
    "        yield a\n",
    "        a, b = b, a + b\n",
    "\n",
    "fib = fibonacci(10)\n",
    "for i in fib:\n",
    "    print(i)"
   ]
  },
  {
   "cell_type": "markdown",
   "id": "7641db0a-22db-4159-96cd-fb4fdc6e1fc1",
   "metadata": {},
   "source": [
    "## Q5. Create a generator function for prime numbers less than 1000. Use the next() method to print the first 20 prime numbers."
   ]
  },
  {
   "cell_type": "code",
   "execution_count": 8,
   "id": "74babdfe-9294-42e9-bf66-5cc2f5a86e19",
   "metadata": {},
   "outputs": [
    {
     "name": "stdout",
     "output_type": "stream",
     "text": [
      "2\n",
      "3\n",
      "5\n",
      "7\n",
      "11\n",
      "13\n",
      "17\n",
      "19\n",
      "23\n",
      "29\n",
      "31\n",
      "37\n",
      "41\n",
      "43\n",
      "47\n",
      "53\n",
      "59\n",
      "61\n",
      "67\n",
      "71\n"
     ]
    }
   ],
   "source": [
    "def prime_numbers(limit):\n",
    "    for num in range(2, limit):\n",
    "        for i in range(2, num):\n",
    "            if (num % i) == 0:\n",
    "                break\n",
    "        else:\n",
    "            yield num\n",
    "\n",
    "primes = prime_numbers(1000)\n",
    "\n",
    "# Use the next() method to print the first 20 prime numbers\n",
    "for i in range(20):\n",
    "    print(next(primes))\n"
   ]
  },
  {
   "cell_type": "markdown",
   "id": "98496bfe-a218-47c4-8e0c-57d352b0ce81",
   "metadata": {},
   "source": [
    "## Q6. Write a python program to print the first 10 Fibonacci numbers using a while loop."
   ]
  },
  {
   "cell_type": "code",
   "execution_count": 12,
   "id": "5b0119b8-59f9-4178-a78a-48d72a01a763",
   "metadata": {},
   "outputs": [
    {
     "name": "stdout",
     "output_type": "stream",
     "text": [
      "0\n",
      "1\n",
      "1\n",
      "2\n",
      "3\n",
      "5\n",
      "8\n",
      "13\n",
      "21\n",
      "34\n"
     ]
    }
   ],
   "source": [
    "number = 10\n",
    "a , b  = 0 , 1 \n",
    "i = 0 \n",
    "while i < number : \n",
    "    print(a)\n",
    "    c = a+ b\n",
    "    a = b \n",
    "    b = c \n",
    "    i= i+ 1"
   ]
  },
  {
   "cell_type": "markdown",
   "id": "7fb314c2-2754-46ff-9efc-cca6b2a0356b",
   "metadata": {},
   "source": [
    "## Q7. Write a List Comprehension to iterate through the given string: ‘pwskills’.\n",
    "Expected output: ['p', 'w', 's', 'k', 'i', 'l', 'l', 's']"
   ]
  },
  {
   "cell_type": "code",
   "execution_count": 2,
   "id": "5af60f1f-a353-4d10-954d-15c08266a405",
   "metadata": {},
   "outputs": [
    {
     "data": {
      "text/plain": [
       "['p', 'w', 's', 'k', 'i', 'l', 'l', 's']"
      ]
     },
     "execution_count": 2,
     "metadata": {},
     "output_type": "execute_result"
    }
   ],
   "source": [
    "string=\"pwskills\"\n",
    "\n",
    "[i for i in string]"
   ]
  },
  {
   "cell_type": "markdown",
   "id": "8e14d3cc-3e22-46be-88f1-b3a240d3b865",
   "metadata": {},
   "source": [
    "## Q8. Write a python program to check whether a given number is Palindrome or not using a while loop."
   ]
  },
  {
   "cell_type": "code",
   "execution_count": 3,
   "id": "047ca4c9-76e6-4ae9-b88a-95bf26c804c9",
   "metadata": {},
   "outputs": [
    {
     "name": "stdin",
     "output_type": "stream",
     "text": [
      "Enter a number: 111\n"
     ]
    },
    {
     "name": "stdout",
     "output_type": "stream",
     "text": [
      "The number is palindrome!\n"
     ]
    }
   ],
   "source": [
    "num=int(input(\"Enter a number:\"))\n",
    "temp=num\n",
    "rev=0\n",
    "while(num>0):\n",
    "    dig=num%10\n",
    "    rev=rev*10+dig\n",
    "    num=num//10\n",
    "if(temp==rev):\n",
    "    print(\"The number is palindrome!\")\n",
    "else:\n",
    "    print(\"Not a palindrome!\")"
   ]
  },
  {
   "cell_type": "markdown",
   "id": "601a568b-9b23-4a0f-8946-6f52ee2b0a2c",
   "metadata": {},
   "source": [
    "## Q9. Write a code to print odd numbers from 1 to 100 using list comprehension."
   ]
  },
  {
   "cell_type": "code",
   "execution_count": 14,
   "id": "9f0a3a10-43a7-4185-be9d-6c2c5736218d",
   "metadata": {},
   "outputs": [
    {
     "name": "stdout",
     "output_type": "stream",
     "text": [
      "[1, 3, 5, 7, 9, 11, 13, 15, 17, 19, 21, 23, 25, 27, 29, 31, 33, 35, 37, 39, 41, 43, 45, 47, 49, 51, 53, 55, 57, 59, 61, 63, 65, 67, 69, 71, 73, 75, 77, 79, 81, 83, 85, 87, 89, 91, 93, 95, 97, 99]\n"
     ]
    }
   ],
   "source": [
    "list1=[x for x in range(1,101)]\n",
    "odd_num=[i for i in list1 if i%2!=0]\n",
    "print(odd_num)"
   ]
  }
 ],
 "metadata": {
  "kernelspec": {
   "display_name": "Python 3 (ipykernel)",
   "language": "python",
   "name": "python3"
  },
  "language_info": {
   "codemirror_mode": {
    "name": "ipython",
    "version": 3
   },
   "file_extension": ".py",
   "mimetype": "text/x-python",
   "name": "python",
   "nbconvert_exporter": "python",
   "pygments_lexer": "ipython3",
   "version": "3.10.8"
  }
 },
 "nbformat": 4,
 "nbformat_minor": 5
}
